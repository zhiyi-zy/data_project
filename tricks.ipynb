{
 "cells": [
  {
   "cell_type": "markdown",
   "metadata": {
    "slideshow": {
     "slide_type": "slide"
    }
   },
   "source": [
    "# Tricks"
   ]
  },
  {
   "cell_type": "markdown",
   "metadata": {},
   "source": [
    "First, lets make some variables that we can do things to as a demo:"
   ]
  },
  {
   "cell_type": "code",
   "execution_count": 59,
   "metadata": {
    "collapsed": false,
    "slideshow": {
     "slide_type": "slide"
    }
   },
   "outputs": [],
   "source": [
    "pets = [\"dog\", \"goat\", \"pig\", \"sheep\", \"cattle\", \"zebu\", \"cat\", \"chicken\",\n",
    "        \"guinea pig\", \"donkey\", \"duck\", \"water buffalo\",\n",
    "        \"western honey bee\", \"dromedary camel\", \"horse\", \"silkmoth\",\n",
    "        \"pigeon\", \"goose\", \"yak\", \"bactrian camel\", \"llama\", \"alpaca\",\n",
    "        \"guineafowl\", \"ferret\", \"muscovy duck\", \"barbary dove\",\n",
    "        \"bali cattle\", \"gayal\", \"turkey\", \"goldfish\", \"rabbit\", \"koi\",\n",
    "        \"canary\", \"society finch\", \"fancy mouse\", \"siamese fighting fish\",\n",
    "        \"fancy rat and lab rat\", \"mink\", \"red fox\", \"hedgehog\", \"guppy\"]\n",
    "# pets = list(range(40))\n",
    "\n",
    "numbers = list(range(30))\n",
    "\n",
    "message_dict = {\"name\": \"Ben\",\n",
    "                \"Year\": 2017,\n",
    "                \"Location\": \"Sydney\",\n",
    "                \"Greeting\": \"Yo whatup now and give a brother room\",\n",
    "                \"Fact\": \"It would take 1,200,000 mosquitoes, each \" +\n",
    "                        \"sucking once, to completely drain the \" +\n",
    "                        \"average human of blood\",\n",
    "                \"Alphabet Inc Class A\": \"847.80USD\",\n",
    "                \"fruit\": [\"apple\", \"apricot\", \"avocado\", \"abiu\"]}"
   ]
  },
  {
   "cell_type": "markdown",
   "metadata": {
    "slideshow": {
     "slide_type": "slide"
    }
   },
   "source": [
    "# Slicing\n",
    "\n",
    "This is a powerful Python idea that is now available in a few other languages.\n",
    "\n",
    "Try and come up with your own way to remember the syntax, and if you do, share it with me!"
   ]
  },
  {
   "cell_type": "code",
   "execution_count": 60,
   "metadata": {
    "tags": []
   },
   "outputs": [
    {
     "output_type": "stream",
     "name": "stdout",
     "text": "[:10] ['dog', 'goat', 'pig', 'sheep', 'cattle', 'zebu', 'cat', 'chicken', 'guinea pig', 'donkey']\n"
    }
   ],
   "source": [
    "print(\"[:10]\", pets[:10])"
   ]
  },
  {
   "cell_type": "code",
   "execution_count": 61,
   "metadata": {
    "tags": []
   },
   "outputs": [
    {
     "output_type": "stream",
     "name": "stdout",
     "text": "\n[35:] ['siamese fighting fish', 'fancy rat and lab rat', 'mink', 'red fox', 'hedgehog', 'guppy']\n"
    }
   ],
   "source": [
    "print(\"\\n[35:]\", pets[35:])"
   ]
  },
  {
   "cell_type": "code",
   "execution_count": 62,
   "metadata": {
    "tags": []
   },
   "outputs": [
    {
     "output_type": "stream",
     "name": "stdout",
     "text": "\n[4:20] ['cattle', 'zebu', 'cat', 'chicken', 'guinea pig', 'donkey', 'duck', 'water buffalo', 'western honey bee', 'dromedary camel', 'horse', 'silkmoth', 'pigeon', 'goose', 'yak', 'bactrian camel']\n"
    }
   ],
   "source": [
    "print(\"\\n[4:20]\", pets[4:20])"
   ]
  },
  {
   "cell_type": "code",
   "execution_count": 63,
   "metadata": {
    "tags": []
   },
   "outputs": [
    {
     "output_type": "stream",
     "name": "stdout",
     "text": "\n[:-35] ['dog', 'goat', 'pig', 'sheep', 'cattle', 'zebu']\n"
    }
   ],
   "source": [
    "print(\"\\n[:-35]\", pets[:-35])"
   ]
  },
  {
   "cell_type": "code",
   "execution_count": 64,
   "metadata": {
    "tags": []
   },
   "outputs": [
    {
     "output_type": "stream",
     "name": "stdout",
     "text": "\n[::-1] ['guppy', 'hedgehog', 'red fox', 'mink', 'fancy rat and lab rat', 'siamese fighting fish', 'fancy mouse', 'society finch', 'canary', 'koi', 'rabbit', 'goldfish', 'turkey', 'gayal', 'bali cattle', 'barbary dove', 'muscovy duck', 'ferret', 'guineafowl', 'alpaca', 'llama', 'bactrian camel', 'yak', 'goose', 'pigeon', 'silkmoth', 'horse', 'dromedary camel', 'western honey bee', 'water buffalo', 'duck', 'donkey', 'guinea pig', 'chicken', 'cat', 'zebu', 'cattle', 'sheep', 'pig', 'goat', 'dog']\n"
    }
   ],
   "source": [
    "print(\"\\n[::-1]\", pets[::-1])"
   ]
  },
  {
   "cell_type": "code",
   "execution_count": 65,
   "metadata": {
    "collapsed": false
   },
   "outputs": [
    {
     "output_type": "execute_result",
     "data": {
      "text/plain": "['cattle', 'zebu', 'cat', 'chicken', 'guinea pig', 'donkey']"
     },
     "metadata": {},
     "execution_count": 65
    }
   ],
   "source": [
    "some_pets = pets[4:10]\n",
    "some_pets"
   ]
  },
  {
   "cell_type": "markdown",
   "metadata": {
    "slideshow": {
     "slide_type": "slide"
    }
   },
   "source": [
    "# Append vs Extend\n",
    "\n",
    "We've seen append a lot, it adds something to a list.\n",
    "\n",
    "_Extend_ works on lists, and adds the _contents_ of the list to a list. It's rare that you'll need it, but it's really helpful when you do."
   ]
  },
  {
   "cell_type": "code",
   "execution_count": 66,
   "metadata": {
    "collapsed": false,
    "slideshow": {
     "slide_type": "fragment"
    },
    "tags": []
   },
   "outputs": [
    {
     "output_type": "stream",
     "name": "stdout",
     "text": "[[0, 1, 2, 3, 4, 5, 6, 7, 8, 9, 10, 11, 12, 13, 14, 15, 16, 17, 18, 19, 20, 21, 22, 23, 24, 25, 26, 27, 28, 29], ['cattle', 'zebu', 'cat', 'chicken', 'guinea pig', 'donkey']]\n"
    }
   ],
   "source": [
    "new_list = []\n",
    "new_list.append(numbers)\n",
    "new_list.append(some_pets)\n",
    "print(new_list)"
   ]
  },
  {
   "cell_type": "code",
   "execution_count": 67,
   "metadata": {
    "collapsed": false,
    "slideshow": {
     "slide_type": "fragment"
    },
    "tags": []
   },
   "outputs": [
    {
     "output_type": "stream",
     "name": "stdout",
     "text": "[0, 1, 2, 3, 4, 5, 6, 7, 8, 9, 10, 11, 12, 13, 14, 15, 16, 17, 18, 19, 20, 21, 22, 23, 24, 25, 26, 27, 28, 29, 'cattle', 'zebu', 'cat', 'chicken', 'guinea pig', 'donkey']\n"
    }
   ],
   "source": [
    "another_new_list = []\n",
    "another_new_list.extend(numbers)\n",
    "another_new_list.extend(some_pets)\n",
    "print(another_new_list)"
   ]
  },
  {
   "cell_type": "markdown",
   "metadata": {
    "slideshow": {
     "slide_type": "slide"
    }
   },
   "source": [
    "# Truthy values\n",
    "\n",
    "You don't always need to say `x == True`, if `x` is _truthy_, you can use it directly."
   ]
  },
  {
   "cell_type": "code",
   "execution_count": 68,
   "metadata": {
    "collapsed": true,
    "slideshow": {
     "slide_type": "fragment"
    }
   },
   "outputs": [],
   "source": [
    "thing = False\n",
    "if thing:\n",
    "    print(\"You'll never see me\")"
   ]
  },
  {
   "cell_type": "code",
   "execution_count": 131,
   "metadata": {
    "tags": []
   },
   "outputs": [
    {
     "output_type": "stream",
     "name": "stdout",
     "text": "Non empty strings are truthy\nNon-zero numbers are truthy\nNon-zero numbers are truthy, even negative ones\nNon empty lists are truthy...\n...even if they're full of falsy things\nTrue is truthy\n"
    }
   ],
   "source": [
    "if \"\":\n",
    "    print(\"Empty strings are falsy\")\n",
    "if \"Hello\":\n",
    "    print(\"Non empty strings are truthy\")\n",
    "if 0:\n",
    "    print(\"Zero is falsy\")\n",
    "if 6:\n",
    "    print(\"Non-zero numbers are truthy\")\n",
    "if -7:\n",
    "    print(\"Non-zero numbers are truthy, even negative ones\")\n",
    "if []:\n",
    "    print(\"Empty lists are falsy\")\n",
    "if [\"stuff\"]:\n",
    "    print(\"Non empty lists are truthy...\")\n",
    "if [False]:\n",
    "    print(\"...even if they're full of falsy things\")\n",
    "if None:\n",
    "    print(\"None is falsy\")\n",
    "if False:\n",
    "    print(\"False is falsy\")\n",
    "if True:\n",
    "    print(\"True is truthy\")"
   ]
  },
  {
   "cell_type": "code",
   "execution_count": 69,
   "metadata": {
    "collapsed": false,
    "slideshow": {
     "slide_type": "fragment"
    },
    "tags": []
   },
   "outputs": [
    {
     "output_type": "stream",
     "name": "stdout",
     "text": "Woah, look at me!\n"
    }
   ],
   "source": [
    "thing = \"hi!\"\n",
    "if thing:\n",
    "    print(\"Woah, look at me!\" )"
   ]
  },
  {
   "cell_type": "code",
   "execution_count": 70,
   "metadata": {
    "collapsed": false,
    "slideshow": {
     "slide_type": "fragment"
    }
   },
   "outputs": [],
   "source": [
    "thing = None\n",
    "if thing:\n",
    "    print(\"I'm a sneaky snake\")"
   ]
  },
  {
   "cell_type": "markdown",
   "metadata": {
    "slideshow": {
     "slide_type": "slide"
    }
   },
   "source": [
    "# List comprehensions"
   ]
  },
  {
   "cell_type": "code",
   "execution_count": 84,
   "metadata": {
    "collapsed": false,
    "slideshow": {
     "slide_type": "fragment"
    },
    "tags": []
   },
   "outputs": [
    {
     "output_type": "stream",
     "name": "stdout",
     "text": "[3, 4, 3, 5, 6, 4, 3, 7, 10, 6, 4, 13, 17, 15, 5, 8, 6, 5, 3, 14, 5, 6, 10, 6, 12, 12, 11, 5, 6, 8, 6, 3, 6, 13, 11, 21, 21, 4, 7, 8, 5]\n"
    }
   ],
   "source": [
    "pet_name_lengths = []\n",
    "for p in pets:\n",
    "    pet_name_lengths.append(len(p))\n",
    "    \n",
    "print(pet_name_lengths)"
   ]
  },
  {
   "cell_type": "code",
   "execution_count": 85,
   "metadata": {
    "collapsed": false,
    "slideshow": {
     "slide_type": "fragment"
    },
    "tags": []
   },
   "outputs": [
    {
     "output_type": "stream",
     "name": "stdout",
     "text": "[3, 4, 3, 5, 6, 4, 3, 7, 10, 6, 4, 13, 17, 15, 5, 8, 6, 5, 3, 14, 5, 6, 10, 6, 12, 12, 11, 5, 6, 8, 6, 3, 6, 13, 11, 21, 21, 4, 7, 8, 5]\n"
    }
   ],
   "source": [
    "pet_name_lengths = [len(p) for p in pets]\n",
    "print(pet_name_lengths)"
   ]
  },
  {
   "cell_type": "code",
   "execution_count": 88,
   "metadata": {
    "tags": []
   },
   "outputs": [
    {
     "output_type": "stream",
     "name": "stdout",
     "text": "['dog', 'goat', 'pig', 'sheep', 'zebu', 'cat', 'duck', 'horse', 'goose', 'yak', 'llama', 'gayal', 'koi', 'mink', 'guppy']\n"
    }
   ],
   "source": [
    "short_pets = [p for p in pets if len(p) < 6]\n",
    "print(short_pets)"
   ]
  },
  {
   "cell_type": "code",
   "execution_count": 89,
   "metadata": {
    "tags": []
   },
   "outputs": [
    {
     "output_type": "stream",
     "name": "stdout",
     "text": "['DOG', 'GOAT', 'PIG', 'SHEEP', 'ZEBU', 'CAT', 'DUCK', 'HORSE', 'GOOSE', 'YAK', 'LLAMA', 'GAYAL', 'KOI', 'MINK', 'GUPPY']\n"
    }
   ],
   "source": [
    "big_short_pets = [p.upper() for p in pets if len(p) < 6]\n",
    "print(big_short_pets)"
   ]
  },
  {
   "cell_type": "markdown",
   "metadata": {
    "slideshow": {
     "slide_type": "slide"
    }
   },
   "source": [
    "# λambdas \n",
    "\n",
    "Lambdas are anonymous functions. They're used a bit as Pandas apply functions, but they're a bit crap these days (in python 3), and comprehensions will usually do the job.\n",
    "\n",
    "They're massive in javascript, so often if people are converting, they'll reach for them."
   ]
  },
  {
   "cell_type": "code",
   "execution_count": 91,
   "metadata": {
    "collapsed": false,
    "slideshow": {
     "slide_type": "fragment"
    },
    "tags": []
   },
   "outputs": [
    {
     "output_type": "stream",
     "name": "stdout",
     "text": "[6, 8, 6, 10, 12, 8, 6, 14, 20, 12, 8, 26, 34, 30, 10, 16, 12, 10, 6, 28, 10, 12, 20, 12, 24, 24, 22, 10, 12, 16, 12, 6, 12, 26, 22, 42, 42, 8, 14, 16, 10]\n"
    }
   ],
   "source": [
    "def get_2x_len(my_string):\n",
    "    return len(my_string) * 2\n",
    "\n",
    "print(list(map(get_2x_len, pets)))"
   ]
  },
  {
   "cell_type": "code",
   "execution_count": 94,
   "metadata": {
    "tags": []
   },
   "outputs": [
    {
     "output_type": "stream",
     "name": "stdout",
     "text": "[6, 8, 6, 10, 12, 8, 6, 14, 20, 12, 8, 26, 34, 30, 10, 16, 12, 10, 6, 28, 10, 12, 20, 12, 24, 24, 22, 10, 12, 16, 12, 6, 12, 26, 22, 42, 42, 8, 14, 16, 10]\n"
    }
   ],
   "source": [
    "print(list(map(lambda x: len(x) * 2, pets)))"
   ]
  },
  {
   "cell_type": "code",
   "execution_count": 98,
   "metadata": {
    "tags": []
   },
   "outputs": [
    {
     "output_type": "stream",
     "name": "stdout",
     "text": "[6, 8, 6, 10, 12, 8, 6, 14, 20, 12, 8, 26, 34, 30, 10, 16, 12, 10, 6, 28, 10, 12, 20, 12, 24, 24, 22, 10, 12, 16, 12, 6, 12, 26, 22, 42, 42, 8, 14, 16, 10]\n"
    }
   ],
   "source": [
    "print([len(p) * 2 for p in pets])"
   ]
  },
  {
   "cell_type": "code",
   "execution_count": 95,
   "metadata": {
    "collapsed": false,
    "slideshow": {
     "slide_type": "fragment"
    },
    "tags": []
   },
   "outputs": [
    {
     "output_type": "stream",
     "name": "stdout",
     "text": "['o', 'o', 'i', 'h', 'a', 'e', 'a', 'h', 'u', 'o', 'u', 'a', 'e', 'r', 'o', 'i', 'i', 'o', 'a', 'a', 'l', 'l', 'u', 'e', 'u', 'a', 'a', 'a', 'u', 'o', 'a', 'o', 'a', 'o', 'a', 'i', 'a', 'i', 'e', 'e', 'u']\n"
    }
   ],
   "source": [
    "print(list(map(lambda x: x[1], pets)))"
   ]
  },
  {
   "cell_type": "code",
   "execution_count": 99,
   "metadata": {
    "tags": []
   },
   "outputs": [
    {
     "output_type": "stream",
     "name": "stdout",
     "text": "['o', 'o', 'i', 'h', 'a', 'e', 'a', 'h', 'u', 'o', 'u', 'a', 'e', 'r', 'o', 'i', 'i', 'o', 'a', 'a', 'l', 'l', 'u', 'e', 'u', 'a', 'a', 'a', 'u', 'o', 'a', 'o', 'a', 'o', 'a', 'i', 'a', 'i', 'e', 'e', 'u']\n"
    }
   ],
   "source": [
    "print([x[1] for x in pets])"
   ]
  },
  {
   "cell_type": "code",
   "execution_count": 97,
   "metadata": {
    "collapsed": false,
    "slideshow": {
     "slide_type": "fragment"
    },
    "tags": []
   },
   "outputs": [
    {
     "output_type": "stream",
     "name": "stdout",
     "text": "[3, 4, 3, 5, 6, 4, 3, 7, 10, 6, 4, 13, 17, 15, 5, 8, 6, 5, 3, 14, 5, 6, 10, 6, 12, 12, 11, 5, 6, 8, 6, 3, 6, 13, 11, 21, 21, 4, 7, 8, 5]\n"
    }
   ],
   "source": [
    "print(list(map(len, pets)))"
   ]
  },
  {
   "cell_type": "markdown",
   "metadata": {
    "slideshow": {
     "slide_type": "slide"
    }
   },
   "source": [
    "# Built ins\n",
    "\n",
    "Some functions don't need to be imported, they're always available."
   ]
  },
  {
   "cell_type": "code",
   "execution_count": 136,
   "metadata": {
    "collapsed": false,
    "slideshow": {
     "slide_type": "-"
    }
   },
   "outputs": [],
   "source": [
    "from random import randint\n",
    "my_odd_list = [randint(0,100) for _ in range(30)]"
   ]
  },
  {
   "cell_type": "code",
   "execution_count": 137,
   "metadata": {
    "collapsed": false,
    "slideshow": {
     "slide_type": "fragment"
    }
   },
   "outputs": [
    {
     "output_type": "execute_result",
     "data": {
      "text/plain": "97"
     },
     "metadata": {},
     "execution_count": 137
    }
   ],
   "source": [
    "max(my_odd_list)"
   ]
  },
  {
   "cell_type": "code",
   "execution_count": 138,
   "metadata": {
    "collapsed": false,
    "slideshow": {
     "slide_type": "fragment"
    }
   },
   "outputs": [
    {
     "output_type": "execute_result",
     "data": {
      "text/plain": "2"
     },
     "metadata": {},
     "execution_count": 138
    }
   ],
   "source": [
    "min(my_odd_list)"
   ]
  },
  {
   "cell_type": "code",
   "execution_count": 139,
   "metadata": {
    "collapsed": false,
    "slideshow": {
     "slide_type": "slide"
    }
   },
   "outputs": [
    {
     "output_type": "execute_result",
     "data": {
      "text/plain": "[(0, 'dog'),\n (1, 'goat'),\n (2, 'pig'),\n (3, 'sheep'),\n (4, 'cattle'),\n (5, 'zebu'),\n (6, 'cat'),\n (7, 'chicken'),\n (8, 'guinea pig'),\n (9, 'donkey'),\n (10, 'duck'),\n (11, 'water buffalo'),\n (12, 'western honey bee'),\n (13, 'dromedary camel'),\n (14, 'horse'),\n (15, 'silkmoth'),\n (16, 'pigeon'),\n (17, 'goose'),\n (18, 'yak'),\n (19, 'bactrian camel'),\n (20, 'llama'),\n (21, 'alpaca'),\n (22, 'guineafowl'),\n (23, 'ferret'),\n (24, 'muscovy duck'),\n (25, 'barbary dove'),\n (26, 'bali cattle'),\n (27, 'gayal'),\n (28, 'turkey'),\n (29, 'goldfish'),\n (30, 'rabbit'),\n (31, 'koi'),\n (32, 'canary'),\n (33, 'society finch'),\n (34, 'fancy mouse'),\n (35, 'siamese fighting fish'),\n (36, 'fancy rat and lab rat'),\n (37, 'mink'),\n (38, 'red fox'),\n (39, 'hedgehog'),\n (40, 'guppy')]"
     },
     "metadata": {},
     "execution_count": 139
    }
   ],
   "source": [
    "list(zip(range(len(pets)), pets))"
   ]
  },
  {
   "cell_type": "code",
   "execution_count": 140,
   "metadata": {
    "collapsed": false,
    "slideshow": {
     "slide_type": "slide"
    },
    "tags": []
   },
   "outputs": [
    {
     "output_type": "stream",
     "name": "stdout",
     "text": "(0, 'dog')\n(1, 'goat')\n(2, 'pig')\n(3, 'sheep')\n(4, 'cattle')\n(5, 'zebu')\n(6, 'cat')\n(7, 'chicken')\n(8, 'guinea pig')\n(9, 'donkey')\n(10, 'duck')\n(11, 'water buffalo')\n(12, 'western honey bee')\n(13, 'dromedary camel')\n(14, 'horse')\n(15, 'silkmoth')\n(16, 'pigeon')\n(17, 'goose')\n(18, 'yak')\n(19, 'bactrian camel')\n(20, 'llama')\n(21, 'alpaca')\n(22, 'guineafowl')\n(23, 'ferret')\n(24, 'muscovy duck')\n(25, 'barbary dove')\n(26, 'bali cattle')\n(27, 'gayal')\n(28, 'turkey')\n(29, 'goldfish')\n(30, 'rabbit')\n(31, 'koi')\n(32, 'canary')\n(33, 'society finch')\n(34, 'fancy mouse')\n(35, 'siamese fighting fish')\n(36, 'fancy rat and lab rat')\n(37, 'mink')\n(38, 'red fox')\n(39, 'hedgehog')\n(40, 'guppy')\n"
    }
   ],
   "source": [
    "for p in enumerate(pets):\n",
    "    print(p)"
   ]
  },
  {
   "cell_type": "markdown",
   "metadata": {
    "slideshow": {
     "slide_type": "slide"
    }
   },
   "source": [
    "# Generators"
   ]
  },
  {
   "cell_type": "code",
   "execution_count": 141,
   "metadata": {
    "collapsed": false,
    "slideshow": {
     "slide_type": "slide"
    }
   },
   "outputs": [],
   "source": [
    "a = enumerate(pets)"
   ]
  },
  {
   "cell_type": "code",
   "execution_count": 145,
   "metadata": {},
   "outputs": [
    {
     "output_type": "execute_result",
     "data": {
      "text/plain": "(3, 'sheep')"
     },
     "metadata": {},
     "execution_count": 145
    }
   ],
   "source": [
    "next(a)"
   ]
  },
  {
   "cell_type": "code",
   "execution_count": 146,
   "metadata": {
    "collapsed": false,
    "slideshow": {
     "slide_type": "slide"
    },
    "tags": []
   },
   "outputs": [
    {
     "output_type": "stream",
     "name": "stdout",
     "text": "0\n3\n6\n"
    }
   ],
   "source": [
    "def a_generator():\n",
    "    counter = 0\n",
    "    while True:\n",
    "        yield counter\n",
    "        counter += 3\n",
    "        \n",
    "g = a_generator()\n",
    "\n",
    "print(next(g))\n",
    "print(next(g))\n",
    "print(next(g))"
   ]
  },
  {
   "cell_type": "markdown",
   "metadata": {},
   "source": [
    "# Dictionary comprehensions"
   ]
  },
  {
   "cell_type": "code",
   "execution_count": 122,
   "metadata": {
    "collapsed": false,
    "tags": []
   },
   "outputs": [
    {
     "output_type": "stream",
     "name": "stdout",
     "text": "{'dog': 0, 'goat': 1, 'pig': 2, 'sheep': 3, 'cattle': 4, 'zebu': 5, 'cat': 6, 'chicken': 7, 'guinea pig': 8, 'donkey': 9}\nCounter({57: 19, 13: 18, 64: 16, 5: 16, 56: 15, 69: 15, 40: 15, 95: 15, 100: 15, 90: 15, 8: 14, 66: 14, 67: 14, 87: 14, 81: 14, 35: 14, 54: 14, 72: 14, 28: 14, 7: 14, 46: 13, 98: 13, 71: 13, 52: 13, 55: 13, 14: 13, 3: 12, 12: 12, 26: 12, 16: 12, 21: 12, 30: 12, 93: 12, 20: 12, 10: 11, 91: 11, 78: 11, 15: 11, 60: 11, 79: 11, 18: 11, 42: 11, 94: 11, 9: 10, 17: 10, 82: 10, 6: 10, 96: 10, 49: 10, 25: 10, 85: 10, 32: 10, 89: 10, 31: 10, 48: 9, 76: 9, 70: 9, 83: 9, 86: 9, 47: 9, 92: 9, 63: 9, 41: 9, 97: 8, 36: 8, 34: 8, 27: 8, 65: 8, 45: 8, 11: 8, 73: 8, 88: 8, 0: 8, 37: 8, 53: 8, 61: 7, 39: 7, 1: 7, 80: 7, 43: 7, 77: 7, 62: 7, 44: 6, 58: 6, 33: 6, 2: 6, 50: 6, 51: 6, 99: 6, 84: 6, 19: 5, 23: 5, 38: 5, 24: 5, 4: 5, 75: 4, 74: 4, 29: 3, 59: 3, 68: 3, 22: 2})\n57\n"
    }
   ],
   "source": [
    "# all yours terry!\n",
    "L = range(10)\n",
    "d = {k:v for k, v in zip(pets, L)}\n",
    "print(d)"
   ]
  },
  {
   "cell_type": "code",
   "execution_count": 124,
   "metadata": {
    "tags": []
   },
   "outputs": [
    {
     "output_type": "stream",
     "name": "stdout",
     "text": "Counter({57: 19, 13: 18, 64: 16, 5: 16, 56: 15, 69: 15, 40: 15, 95: 15, 100: 15, 90: 15, 8: 14, 66: 14, 67: 14, 87: 14, 81: 14, 35: 14, 54: 14, 72: 14, 28: 14, 7: 14, 46: 13, 98: 13, 71: 13, 52: 13, 55: 13, 14: 13, 3: 12, 12: 12, 26: 12, 16: 12, 21: 12, 30: 12, 93: 12, 20: 12, 10: 11, 91: 11, 78: 11, 15: 11, 60: 11, 79: 11, 18: 11, 42: 11, 94: 11, 9: 10, 17: 10, 82: 10, 6: 10, 96: 10, 49: 10, 25: 10, 85: 10, 32: 10, 89: 10, 31: 10, 48: 9, 76: 9, 70: 9, 83: 9, 86: 9, 47: 9, 92: 9, 63: 9, 41: 9, 97: 8, 36: 8, 34: 8, 27: 8, 65: 8, 45: 8, 11: 8, 73: 8, 88: 8, 0: 8, 37: 8, 53: 8, 61: 7, 39: 7, 1: 7, 80: 7, 43: 7, 77: 7, 62: 7, 44: 6, 58: 6, 33: 6, 2: 6, 50: 6, 51: 6, 99: 6, 84: 6, 19: 5, 23: 5, 38: 5, 24: 5, 4: 5, 75: 4, 74: 4, 29: 3, 59: 3, 68: 3, 22: 2})\n\n57\n"
    }
   ],
   "source": [
    "import collections\n",
    "d = collections.defaultdict(list)\n",
    "d = collections.Counter()\n",
    "d = collections.Counter(my_odd_list)\n",
    "print(d)\n",
    "print()\n",
    "print(max(d, key=lambda x: d[x]))"
   ]
  },
  {
   "cell_type": "code",
   "execution_count": null,
   "metadata": {},
   "outputs": [],
   "source": []
  }
 ],
 "metadata": {
  "celltoolbar": "Slideshow",
  "kernelspec": {
   "display_name": "Python 3.7.1 64-bit",
   "language": "python",
   "name": "python_defaultSpec_1595328765133"
  },
  "language_info": {
   "codemirror_mode": {
    "name": "ipython",
    "version": 2
   },
   "file_extension": ".py",
   "mimetype": "text/x-python",
   "name": "python",
   "nbconvert_exporter": "python",
   "pygments_lexer": "ipython2",
   "version": "2.7.12"
  },
  "toc": {
   "colors": {
    "hover_highlight": "#DAA520",
    "navigate_num": "#000000",
    "navigate_text": "#333333",
    "running_highlight": "#FF0000",
    "selected_highlight": "#FFD700",
    "sidebar_border": "#EEEEEE",
    "wrapper_background": "#FFFFFF"
   },
   "moveMenuLeft": true,
   "nav_menu": {
    "height": "174px",
    "width": "252px"
   },
   "navigate_menu": true,
   "number_sections": true,
   "sideBar": true,
   "threshold": 4,
   "toc_cell": false,
   "toc_section_display": "block",
   "toc_window_display": false,
   "widenNotebook": false
  }
 },
 "nbformat": 4,
 "nbformat_minor": 1
}