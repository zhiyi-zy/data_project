{
 "cells": [
  {
   "cell_type": "markdown",
   "metadata": {
    "slideshow": {
     "slide_type": "slide"
    }
   },
   "source": [
    "# Pandas\n",
    "\n",
    "This notebook covers a _lot_, go through it carefully and _read_ the code. Then work on _understanding_ it. Then apply it to your data set. Then once you've done that, you'll probably _actually_ understand it.\n",
    "\n",
    "Messing about with the [NSW Penalty data](http://www.osr.nsw.gov.au/sites/default/files/file_manager/penalty_data_set_0.csv)"
   ]
  },
  {
   "cell_type": "markdown",
   "metadata": {
    "slideshow": {
     "slide_type": "slide"
    }
   },
   "source": [
    "`imports`, you've seen this before!"
   ]
  },
  {
   "cell_type": "code",
   "execution_count": 1,
   "metadata": {
    "slideshow": {
     "slide_type": "-"
    }
   },
   "outputs": [],
   "source": [
    "import matplotlib\n",
    "import matplotlib.pyplot as plt\n",
    "import numpy as np\n",
    "import pandas as pd\n",
    "import os\n",
    "from datetime import datetime"
   ]
  },
  {
   "cell_type": "markdown",
   "metadata": {
    "slideshow": {
     "slide_type": "fragment"
    }
   },
   "source": [
    "Some magic that tells jupyter to put graphs and things in the notebook instead of the default behaviour which is to save it as a file."
   ]
  },
  {
   "cell_type": "code",
   "execution_count": 2,
   "metadata": {
    "slideshow": {
     "slide_type": "-"
    }
   },
   "outputs": [],
   "source": [
    "%matplotlib inline"
   ]
  },
  {
   "cell_type": "markdown",
   "metadata": {},
   "source": [
    "Set the size of the plots that will come out when we ask for them. Annoyingly, these are in inches. Whatever an \"inch\" is"
   ]
  },
  {
   "cell_type": "code",
   "execution_count": 3,
   "metadata": {},
   "outputs": [],
   "source": [
    "plt.rcParams[\"figure.figsize\"] = (10, 5)\n"
   ]
  },
  {
   "cell_type": "code",
   "execution_count": 4,
   "metadata": {
    "slideshow": {
     "slide_type": "skip"
    }
   },
   "outputs": [],
   "source": [
    "saved_style_state = matplotlib.rcParams.copy()  # give us a style state to go back to\n"
   ]
  },
  {
   "cell_type": "markdown",
   "metadata": {
    "slideshow": {
     "slide_type": "slide"
    }
   },
   "source": [
    "Let's check to see if we've already downloaded the data. It's a big file, so we don't want to do it every time we run the code. Even just loading from file takes a few seconds!\n",
    "\n",
    "Pandas is pretty smart, it can get data from the internet just as easily as from the file system, it just takes a bit longer.\n"
   ]
  },
  {
   "cell_type": "code",
   "execution_count": 5,
   "metadata": {
    "slideshow": {
     "slide_type": "fragment"
    }
   },
   "outputs": [
    {
     "name": "stdout",
     "output_type": "stream",
     "text": [
      "done\n"
     ]
    }
   ],
   "source": [
    "# if os.path.isfile(\"penalty_data_set_0.csv\"):\n",
    "#     filepath = \"penalty_data_set_0.csv\"\n",
    "#     print(\"loading from file\")\n",
    "# else:\n",
    "#     filepath = \"http://www.osr.nsw.gov.au/sites/default/files/file_manager/penalty_data_set_0.csv\"\n",
    "#     print(\"loading from the internet\")\n",
    "\n",
    "penalty_data = pd.read_excel(\"TAS AirBnb.xlsx\")\n",
    "print(\"done\")\n"
   ]
  },
  {
   "cell_type": "code",
   "execution_count": 6,
   "metadata": {
    "slideshow": {
     "slide_type": "slide"
    }
   },
   "outputs": [
    {
     "data": {
      "text/html": [
       "<div>\n",
       "<style scoped>\n",
       "    .dataframe tbody tr th:only-of-type {\n",
       "        vertical-align: middle;\n",
       "    }\n",
       "\n",
       "    .dataframe tbody tr th {\n",
       "        vertical-align: top;\n",
       "    }\n",
       "\n",
       "    .dataframe thead th {\n",
       "        text-align: right;\n",
       "    }\n",
       "</style>\n",
       "<table border=\"1\" class=\"dataframe\">\n",
       "  <thead>\n",
       "    <tr style=\"text-align: right;\">\n",
       "      <th></th>\n",
       "      <th>id</th>\n",
       "      <th>name</th>\n",
       "      <th>host_id</th>\n",
       "      <th>host_name</th>\n",
       "      <th>neighbourhood_group</th>\n",
       "      <th>neighbourhood</th>\n",
       "      <th>latitude</th>\n",
       "      <th>longitude</th>\n",
       "      <th>room_type</th>\n",
       "      <th>price</th>\n",
       "      <th>minimum_nights</th>\n",
       "      <th>number_of_reviews</th>\n",
       "      <th>last_review</th>\n",
       "      <th>reviews_per_month</th>\n",
       "      <th>calculated_host_listings_count</th>\n",
       "      <th>availability_365</th>\n",
       "      <th>number_of_reviews_ltm</th>\n",
       "      <th>license</th>\n",
       "    </tr>\n",
       "  </thead>\n",
       "  <tbody>\n",
       "    <tr>\n",
       "      <th>0</th>\n",
       "      <td>35644</td>\n",
       "      <td>Central Hobart Historic Cottage</td>\n",
       "      <td>153268</td>\n",
       "      <td>Yvette</td>\n",
       "      <td>NaN</td>\n",
       "      <td>Hobart</td>\n",
       "      <td>-42.87895</td>\n",
       "      <td>147.31526</td>\n",
       "      <td>Private room</td>\n",
       "      <td>57</td>\n",
       "      <td>1</td>\n",
       "      <td>257</td>\n",
       "      <td>2020-03-08</td>\n",
       "      <td>2.06</td>\n",
       "      <td>3</td>\n",
       "      <td>0</td>\n",
       "      <td>0</td>\n",
       "      <td>Exempt: This listing falls under Section 12 of...</td>\n",
       "    </tr>\n",
       "    <tr>\n",
       "      <th>1</th>\n",
       "      <td>84581</td>\n",
       "      <td>Kentisbury Country House Cradle Coast Tasmania</td>\n",
       "      <td>461471</td>\n",
       "      <td>Melissa</td>\n",
       "      <td>NaN</td>\n",
       "      <td>Kentish</td>\n",
       "      <td>-41.38856</td>\n",
       "      <td>146.23210</td>\n",
       "      <td>Entire home/apt</td>\n",
       "      <td>295</td>\n",
       "      <td>2</td>\n",
       "      <td>109</td>\n",
       "      <td>2023-02-27</td>\n",
       "      <td>1.24</td>\n",
       "      <td>1</td>\n",
       "      <td>316</td>\n",
       "      <td>45</td>\n",
       "      <td>Exempt: This listing falls under Section 12 of...</td>\n",
       "    </tr>\n",
       "    <tr>\n",
       "      <th>2</th>\n",
       "      <td>137808</td>\n",
       "      <td>Bradman House CBD Launceston Invermay + Free WIFI</td>\n",
       "      <td>673625</td>\n",
       "      <td>Emma And Dale</td>\n",
       "      <td>NaN</td>\n",
       "      <td>Launceston</td>\n",
       "      <td>-41.42683</td>\n",
       "      <td>147.12905</td>\n",
       "      <td>Entire home/apt</td>\n",
       "      <td>239</td>\n",
       "      <td>1</td>\n",
       "      <td>335</td>\n",
       "      <td>2023-03-04</td>\n",
       "      <td>2.49</td>\n",
       "      <td>2</td>\n",
       "      <td>336</td>\n",
       "      <td>74</td>\n",
       "      <td>DA0518/2019</td>\n",
       "    </tr>\n",
       "    <tr>\n",
       "      <th>3</th>\n",
       "      <td>268482</td>\n",
       "      <td>Anderson Suite, The Ark Stanley, Guest House</td>\n",
       "      <td>1406692</td>\n",
       "      <td>Rhonda</td>\n",
       "      <td>NaN</td>\n",
       "      <td>Circular Head</td>\n",
       "      <td>-40.76467</td>\n",
       "      <td>145.29878</td>\n",
       "      <td>Private room</td>\n",
       "      <td>367</td>\n",
       "      <td>1</td>\n",
       "      <td>5</td>\n",
       "      <td>2022-02-05</td>\n",
       "      <td>0.06</td>\n",
       "      <td>7</td>\n",
       "      <td>241</td>\n",
       "      <td>0</td>\n",
       "      <td>Exempt: This listing falls under Section 12 of...</td>\n",
       "    </tr>\n",
       "    <tr>\n",
       "      <th>4</th>\n",
       "      <td>88873</td>\n",
       "      <td>Terrace- 5mins to central Hobart</td>\n",
       "      <td>485048</td>\n",
       "      <td>Russell And Ingrid</td>\n",
       "      <td>NaN</td>\n",
       "      <td>Hobart</td>\n",
       "      <td>-42.88267</td>\n",
       "      <td>147.32400</td>\n",
       "      <td>Entire home/apt</td>\n",
       "      <td>125</td>\n",
       "      <td>2</td>\n",
       "      <td>541</td>\n",
       "      <td>2023-03-06</td>\n",
       "      <td>3.76</td>\n",
       "      <td>1</td>\n",
       "      <td>169</td>\n",
       "      <td>57</td>\n",
       "      <td>Exempt: This listing falls under Section 12 of...</td>\n",
       "    </tr>\n",
       "  </tbody>\n",
       "</table>\n",
       "</div>"
      ],
      "text/plain": [
       "       id                                               name  host_id  \\\n",
       "0   35644                    Central Hobart Historic Cottage   153268   \n",
       "1   84581     Kentisbury Country House Cradle Coast Tasmania   461471   \n",
       "2  137808  Bradman House CBD Launceston Invermay + Free WIFI   673625   \n",
       "3  268482       Anderson Suite, The Ark Stanley, Guest House  1406692   \n",
       "4   88873                   Terrace- 5mins to central Hobart   485048   \n",
       "\n",
       "            host_name  neighbourhood_group  neighbourhood  latitude  \\\n",
       "0              Yvette                  NaN         Hobart -42.87895   \n",
       "1             Melissa                  NaN        Kentish -41.38856   \n",
       "2       Emma And Dale                  NaN     Launceston -41.42683   \n",
       "3              Rhonda                  NaN  Circular Head -40.76467   \n",
       "4  Russell And Ingrid                  NaN         Hobart -42.88267   \n",
       "\n",
       "   longitude        room_type  price  minimum_nights  number_of_reviews  \\\n",
       "0  147.31526     Private room     57               1                257   \n",
       "1  146.23210  Entire home/apt    295               2                109   \n",
       "2  147.12905  Entire home/apt    239               1                335   \n",
       "3  145.29878     Private room    367               1                  5   \n",
       "4  147.32400  Entire home/apt    125               2                541   \n",
       "\n",
       "  last_review  reviews_per_month  calculated_host_listings_count  \\\n",
       "0  2020-03-08               2.06                               3   \n",
       "1  2023-02-27               1.24                               1   \n",
       "2  2023-03-04               2.49                               2   \n",
       "3  2022-02-05               0.06                               7   \n",
       "4  2023-03-06               3.76                               1   \n",
       "\n",
       "   availability_365  number_of_reviews_ltm  \\\n",
       "0                 0                      0   \n",
       "1               316                     45   \n",
       "2               336                     74   \n",
       "3               241                      0   \n",
       "4               169                     57   \n",
       "\n",
       "                                             license  \n",
       "0  Exempt: This listing falls under Section 12 of...  \n",
       "1  Exempt: This listing falls under Section 12 of...  \n",
       "2                                        DA0518/2019  \n",
       "3  Exempt: This listing falls under Section 12 of...  \n",
       "4  Exempt: This listing falls under Section 12 of...  "
      ]
     },
     "execution_count": 6,
     "metadata": {},
     "output_type": "execute_result"
    }
   ],
   "source": [
    "penalty_data.head()\n"
   ]
  },
  {
   "cell_type": "markdown",
   "metadata": {},
   "source": [
    "`dataframe.head()` gives the top 5 rows, if it was `dataframe.head(3)` it would give the top 3 rows. \n",
    "\n",
    "`dataframe.sample(5)` gives you 5 random rows from your dataframe. It's a good way to avoid the trap where you confuse yourself the first few rows are odd."
   ]
  },
  {
   "cell_type": "code",
   "execution_count": 7,
   "metadata": {},
   "outputs": [
    {
     "data": {
      "text/html": [
       "<div>\n",
       "<style scoped>\n",
       "    .dataframe tbody tr th:only-of-type {\n",
       "        vertical-align: middle;\n",
       "    }\n",
       "\n",
       "    .dataframe tbody tr th {\n",
       "        vertical-align: top;\n",
       "    }\n",
       "\n",
       "    .dataframe thead th {\n",
       "        text-align: right;\n",
       "    }\n",
       "</style>\n",
       "<table border=\"1\" class=\"dataframe\">\n",
       "  <thead>\n",
       "    <tr style=\"text-align: right;\">\n",
       "      <th></th>\n",
       "      <th>id</th>\n",
       "      <th>name</th>\n",
       "      <th>host_id</th>\n",
       "      <th>host_name</th>\n",
       "      <th>neighbourhood_group</th>\n",
       "      <th>neighbourhood</th>\n",
       "      <th>latitude</th>\n",
       "      <th>longitude</th>\n",
       "      <th>room_type</th>\n",
       "      <th>price</th>\n",
       "      <th>minimum_nights</th>\n",
       "      <th>number_of_reviews</th>\n",
       "      <th>last_review</th>\n",
       "      <th>reviews_per_month</th>\n",
       "      <th>calculated_host_listings_count</th>\n",
       "      <th>availability_365</th>\n",
       "      <th>number_of_reviews_ltm</th>\n",
       "      <th>license</th>\n",
       "    </tr>\n",
       "  </thead>\n",
       "  <tbody>\n",
       "    <tr>\n",
       "      <th>2270</th>\n",
       "      <td>30782645</td>\n",
       "      <td>South Hobart Garden Retreat</td>\n",
       "      <td>226611201</td>\n",
       "      <td>Benj</td>\n",
       "      <td>NaN</td>\n",
       "      <td>Hobart</td>\n",
       "      <td>-42.896670</td>\n",
       "      <td>147.311840</td>\n",
       "      <td>Entire home/apt</td>\n",
       "      <td>95</td>\n",
       "      <td>4</td>\n",
       "      <td>8</td>\n",
       "      <td>2020-01-22</td>\n",
       "      <td>0.16</td>\n",
       "      <td>1</td>\n",
       "      <td>0</td>\n",
       "      <td>0</td>\n",
       "      <td>Exempt: This listing falls under the 'home sha...</td>\n",
       "    </tr>\n",
       "    <tr>\n",
       "      <th>2105</th>\n",
       "      <td>24415138</td>\n",
       "      <td>Cosy Church 7 mins from Blue Derby MB Trails</td>\n",
       "      <td>4458068</td>\n",
       "      <td>Jemma</td>\n",
       "      <td>NaN</td>\n",
       "      <td>Dorset</td>\n",
       "      <td>-41.098638</td>\n",
       "      <td>147.826649</td>\n",
       "      <td>Entire home/apt</td>\n",
       "      <td>222</td>\n",
       "      <td>1</td>\n",
       "      <td>358</td>\n",
       "      <td>2023-03-04</td>\n",
       "      <td>6.07</td>\n",
       "      <td>3</td>\n",
       "      <td>287</td>\n",
       "      <td>50</td>\n",
       "      <td>PLA/2019/112</td>\n",
       "    </tr>\n",
       "    <tr>\n",
       "      <th>2272</th>\n",
       "      <td>30802641</td>\n",
       "      <td>Exclusive Boutique Coastal Cottage</td>\n",
       "      <td>230445667</td>\n",
       "      <td>Colin</td>\n",
       "      <td>NaN</td>\n",
       "      <td>Huon Valley</td>\n",
       "      <td>-43.219120</td>\n",
       "      <td>147.058550</td>\n",
       "      <td>Entire home/apt</td>\n",
       "      <td>500</td>\n",
       "      <td>3</td>\n",
       "      <td>23</td>\n",
       "      <td>2022-01-08</td>\n",
       "      <td>0.45</td>\n",
       "      <td>1</td>\n",
       "      <td>0</td>\n",
       "      <td>0</td>\n",
       "      <td>Exempt: This listing falls under the 'home sha...</td>\n",
       "    </tr>\n",
       "    <tr>\n",
       "      <th>553</th>\n",
       "      <td>10948372</td>\n",
       "      <td>Bambra Reef Lodge</td>\n",
       "      <td>56779387</td>\n",
       "      <td>Julie</td>\n",
       "      <td>NaN</td>\n",
       "      <td>Clarence</td>\n",
       "      <td>-42.894290</td>\n",
       "      <td>147.499660</td>\n",
       "      <td>Entire home/apt</td>\n",
       "      <td>195</td>\n",
       "      <td>2</td>\n",
       "      <td>29</td>\n",
       "      <td>2022-04-17</td>\n",
       "      <td>0.37</td>\n",
       "      <td>1</td>\n",
       "      <td>57</td>\n",
       "      <td>2</td>\n",
       "      <td>D-2009/396</td>\n",
       "    </tr>\n",
       "    <tr>\n",
       "      <th>3307</th>\n",
       "      <td>45584071</td>\n",
       "      <td>Bay Of Fires Apartments - Suite 7</td>\n",
       "      <td>96784548</td>\n",
       "      <td>Emily</td>\n",
       "      <td>NaN</td>\n",
       "      <td>Break O'Day</td>\n",
       "      <td>-41.321030</td>\n",
       "      <td>148.249190</td>\n",
       "      <td>Private room</td>\n",
       "      <td>375</td>\n",
       "      <td>1</td>\n",
       "      <td>8</td>\n",
       "      <td>2023-01-05</td>\n",
       "      <td>0.30</td>\n",
       "      <td>36</td>\n",
       "      <td>335</td>\n",
       "      <td>4</td>\n",
       "      <td>Exempt: This listing falls under Section 12 of...</td>\n",
       "    </tr>\n",
       "  </tbody>\n",
       "</table>\n",
       "</div>"
      ],
      "text/plain": [
       "            id                                          name    host_id  \\\n",
       "2270  30782645                   South Hobart Garden Retreat  226611201   \n",
       "2105  24415138  Cosy Church 7 mins from Blue Derby MB Trails    4458068   \n",
       "2272  30802641            Exclusive Boutique Coastal Cottage  230445667   \n",
       "553   10948372                             Bambra Reef Lodge   56779387   \n",
       "3307  45584071             Bay Of Fires Apartments - Suite 7   96784548   \n",
       "\n",
       "     host_name  neighbourhood_group neighbourhood   latitude   longitude  \\\n",
       "2270      Benj                  NaN        Hobart -42.896670  147.311840   \n",
       "2105     Jemma                  NaN        Dorset -41.098638  147.826649   \n",
       "2272     Colin                  NaN   Huon Valley -43.219120  147.058550   \n",
       "553      Julie                  NaN      Clarence -42.894290  147.499660   \n",
       "3307     Emily                  NaN   Break O'Day -41.321030  148.249190   \n",
       "\n",
       "            room_type  price  minimum_nights  number_of_reviews last_review  \\\n",
       "2270  Entire home/apt     95               4                  8  2020-01-22   \n",
       "2105  Entire home/apt    222               1                358  2023-03-04   \n",
       "2272  Entire home/apt    500               3                 23  2022-01-08   \n",
       "553   Entire home/apt    195               2                 29  2022-04-17   \n",
       "3307     Private room    375               1                  8  2023-01-05   \n",
       "\n",
       "      reviews_per_month  calculated_host_listings_count  availability_365  \\\n",
       "2270               0.16                               1                 0   \n",
       "2105               6.07                               3               287   \n",
       "2272               0.45                               1                 0   \n",
       "553                0.37                               1                57   \n",
       "3307               0.30                              36               335   \n",
       "\n",
       "      number_of_reviews_ltm                                            license  \n",
       "2270                      0  Exempt: This listing falls under the 'home sha...  \n",
       "2105                     50                                       PLA/2019/112  \n",
       "2272                      0  Exempt: This listing falls under the 'home sha...  \n",
       "553                       2                                         D-2009/396  \n",
       "3307                      4  Exempt: This listing falls under Section 12 of...  "
      ]
     },
     "execution_count": 7,
     "metadata": {},
     "output_type": "execute_result"
    }
   ],
   "source": [
    "penalty_data.sample(5)\n"
   ]
  },
  {
   "cell_type": "markdown",
   "metadata": {
    "slideshow": {
     "slide_type": "slide"
    }
   },
   "source": [
    "We can also get the list of columns out of the data frame"
   ]
  },
  {
   "cell_type": "code",
   "execution_count": 8,
   "metadata": {
    "slideshow": {
     "slide_type": "fragment"
    }
   },
   "outputs": [
    {
     "data": {
      "text/plain": [
       "Index(['id', 'name', 'host_id', 'host_name', 'neighbourhood_group',\n",
       "       'neighbourhood', 'latitude', 'longitude', 'room_type', 'price',\n",
       "       'minimum_nights', 'number_of_reviews', 'last_review',\n",
       "       'reviews_per_month', 'calculated_host_listings_count',\n",
       "       'availability_365', 'number_of_reviews_ltm', 'license'],\n",
       "      dtype='object')"
      ]
     },
     "execution_count": 8,
     "metadata": {},
     "output_type": "execute_result"
    }
   ],
   "source": [
    "penalty_data.columns"
   ]
  },
  {
   "cell_type": "markdown",
   "metadata": {},
   "source": [
    "This is useful for you when you are documenting your dataset, you can make each column a heading, and then describe that column's characteristics."
   ]
  },
  {
   "cell_type": "markdown",
   "metadata": {
    "slideshow": {
     "slide_type": "slide"
    }
   },
   "source": [
    "You can't index a row directly, you need to use the `iloc` property. That means the _interger location_, so the zeroeth row would be `df.iloc[0]`. \n",
    "\n",
    "This gives us the row as a _Series_.\n",
    "\n",
    "↓"
   ]
  },
  {
   "cell_type": "code",
   "execution_count": 9,
   "metadata": {
    "slideshow": {
     "slide_type": "subslide"
    }
   },
   "outputs": [
    {
     "data": {
      "text/plain": [
       "id                                                                            84581\n",
       "name                                 Kentisbury Country House Cradle Coast Tasmania\n",
       "host_id                                                                      461471\n",
       "host_name                                                                   Melissa\n",
       "neighbourhood_group                                                             NaN\n",
       "neighbourhood                                                               Kentish\n",
       "latitude                                                                  -41.38856\n",
       "longitude                                                                  146.2321\n",
       "room_type                                                           Entire home/apt\n",
       "price                                                                           295\n",
       "minimum_nights                                                                    2\n",
       "number_of_reviews                                                               109\n",
       "last_review                                                     2023-02-27 00:00:00\n",
       "reviews_per_month                                                              1.24\n",
       "calculated_host_listings_count                                                    1\n",
       "availability_365                                                                316\n",
       "number_of_reviews_ltm                                                            45\n",
       "license                           Exempt: This listing falls under Section 12 of...\n",
       "Name: 1, dtype: object"
      ]
     },
     "execution_count": 9,
     "metadata": {},
     "output_type": "execute_result"
    }
   ],
   "source": [
    "row_one = penalty_data.iloc[1]\n",
    "row_one\n"
   ]
  },
  {
   "cell_type": "markdown",
   "metadata": {
    "slideshow": {
     "slide_type": "subslide"
    }
   },
   "source": [
    "Series objects are _very_ similar to dictionaries. They have more properties though."
   ]
  },
  {
   "cell_type": "code",
   "execution_count": 10,
   "metadata": {
    "slideshow": {
     "slide_type": "-"
    }
   },
   "outputs": [
    {
     "data": {
      "text/plain": [
       "84581"
      ]
     },
     "execution_count": 10,
     "metadata": {},
     "output_type": "execute_result"
    }
   ],
   "source": [
    "row_one[\"id\"]"
   ]
  },
  {
   "cell_type": "markdown",
   "metadata": {},
   "source": [
    "You can access them like a dictionary ☝ or you can access them like a property 👇. \n",
    "\n",
    "I like the `my_series.key_name` best, but it won't work if there are spaces in your column title. That can happen if you are getting the data from somewhere else (i.e. you didn't make it)."
   ]
  },
  {
   "cell_type": "code",
   "execution_count": 11,
   "metadata": {},
   "outputs": [
    {
     "data": {
      "text/plain": [
       "84581"
      ]
     },
     "execution_count": 11,
     "metadata": {},
     "output_type": "execute_result"
    }
   ],
   "source": [
    "row_one.id"
   ]
  },
  {
   "cell_type": "markdown",
   "metadata": {
    "slideshow": {
     "slide_type": "slide"
    }
   },
   "source": [
    "Doing the same thing on a dataframe gives us the whole column"
   ]
  },
  {
   "cell_type": "code",
   "execution_count": 12,
   "metadata": {
    "slideshow": {
     "slide_type": "-"
    }
   },
   "outputs": [
    {
     "data": {
      "text/plain": [
       "0        57\n",
       "1       295\n",
       "2       239\n",
       "3       367\n",
       "4       125\n",
       "       ... \n",
       "5572    200\n",
       "5573    309\n",
       "5574    259\n",
       "5575    287\n",
       "5576     80\n",
       "Name: price, Length: 5577, dtype: int64"
      ]
     },
     "execution_count": 12,
     "metadata": {},
     "output_type": "execute_result"
    }
   ],
   "source": [
    "penalty_data.price"
   ]
  },
  {
   "cell_type": "code",
   "execution_count": 13,
   "metadata": {
    "slideshow": {
     "slide_type": "slide"
    }
   },
   "outputs": [
    {
     "data": {
      "text/plain": [
       "<Axes: >"
      ]
     },
     "execution_count": 13,
     "metadata": {},
     "output_type": "execute_result"
    },
    {
     "data": {
      "image/png": "[encoded data removed]",
      "text/plain": [
       "<Figure size 1000x500 with 1 Axes>"
      ]
     },
     "metadata": {},
     "output_type": "display_data"
    }
   ],
   "source": [
    "penalty_data[\"price\"].plot()"
   ]
  },
  {
   "cell_type": "markdown",
   "metadata": {
    "slideshow": {
     "slide_type": "fragment"
    }
   },
   "source": [
    "If we do a simple `plot` on this column we get a pretty dense, but useless graph. It much better one would be a histogram."
   ]
  },
  {
   "cell_type": "code",
   "execution_count": 14,
   "metadata": {
    "slideshow": {
     "slide_type": "slide"
    }
   },
   "outputs": [
    {
     "data": {
      "text/plain": [
       "<Axes: >"
      ]
     },
     "execution_count": 14,
     "metadata": {},
     "output_type": "execute_result"
    },
    {
     "data": {
      "image/png": "[encoded data removed]",
      "text/plain": [
       "<Figure size 1000x500 with 1 Axes>"
      ]
     },
     "metadata": {},
     "output_type": "display_data"
    }
   ],
   "source": [
    "penalty_data.price.hist()"
   ]
  },
  {
   "cell_type": "markdown",
   "metadata": {
    "slideshow": {
     "slide_type": "fragment"
    }
   },
   "source": [
    "The problem we have now is that almost _all_ fines are less than $2000, but there's a very long tail that fills up the right of the graph."
   ]
  },
  {
   "cell_type": "markdown",
   "metadata": {
    "slideshow": {
     "slide_type": "slide"
    }
   },
   "source": [
    "Let's exclude all the values above $3000, and see what it looks like.\n",
    "\n",
    "We can do that with a nice feature of pandas, _boolean indexing_:"
   ]
  },
  {
   "cell_type": "code",
   "execution_count": 15,
   "metadata": {
    "slideshow": {
     "slide_type": "slide"
    }
   },
   "outputs": [
    {
     "data": {
      "text/plain": [
       "<Axes: >"
      ]
     },
     "execution_count": 15,
     "metadata": {},
     "output_type": "execute_result"
    },
    {
     "data": {
      "image/png": "[encoded data removed]",
      "text/plain": [
       "<Figure size 1000x500 with 1 Axes>"
      ]
     },
     "metadata": {},
     "output_type": "display_data"
    }
   ],
   "source": [
    "penalty_data.price[penalty_data.price < 1000].hist()\n"
   ]
  },
  {
   "cell_type": "markdown",
   "metadata": {
    "slideshow": {
     "slide_type": "slide"
    }
   },
   "source": [
    "That's pretty crazy/powerful, so let's see that happen a bit more clearly.\n",
    "\n",
    "We'll make our own series and call it  `some_numbers`\n",
    "\n",
    "Let's give it the values 0-99 "
   ]
  },
  {
   "cell_type": "code",
   "execution_count": 16,
   "metadata": {
    "slideshow": {
     "slide_type": "slide"
    }
   },
   "outputs": [
    {
     "data": {
      "text/plain": [
       "0    0\n",
       "1    1\n",
       "2    2\n",
       "3    3\n",
       "4    4\n",
       "dtype: int64"
      ]
     },
     "execution_count": 16,
     "metadata": {},
     "output_type": "execute_result"
    }
   ],
   "source": [
    "# Note the capital S, I have no idea why they did that!\n",
    "# but if you get an `AttributeError: 'module' object has no attribute 'series'` error...\n",
    "#                 v\n",
    "some_numbers = pd.Series(range(100))\n",
    "some_numbers.head()\n"
   ]
  },
  {
   "cell_type": "markdown",
   "metadata": {
    "slideshow": {
     "slide_type": "slide"
    }
   },
   "source": [
    "We can use boolean indexing to get just the values that are less than 8"
   ]
  },
  {
   "cell_type": "code",
   "execution_count": 17,
   "metadata": {
    "slideshow": {
     "slide_type": "-"
    }
   },
   "outputs": [
    {
     "data": {
      "text/plain": [
       "0    0\n",
       "1    1\n",
       "2    2\n",
       "3    3\n",
       "4    4\n",
       "5    5\n",
       "6    6\n",
       "7    7\n",
       "dtype: int64"
      ]
     },
     "execution_count": 17,
     "metadata": {},
     "output_type": "execute_result"
    }
   ],
   "source": [
    "some_numbers[some_numbers < 8]"
   ]
  },
  {
   "cell_type": "markdown",
   "metadata": {
    "slideshow": {
     "slide_type": "slide"
    }
   },
   "source": [
    "Or we can be fancy and get the numbers that are less than 4 _or_ more than 97:"
   ]
  },
  {
   "cell_type": "code",
   "execution_count": 18,
   "metadata": {
    "slideshow": {
     "slide_type": "-"
    }
   },
   "outputs": [
    {
     "data": {
      "text/plain": [
       "0      0\n",
       "1      1\n",
       "2      2\n",
       "3      3\n",
       "97    97\n",
       "98    98\n",
       "99    99\n",
       "dtype: int64"
      ]
     },
     "execution_count": 18,
     "metadata": {},
     "output_type": "execute_result"
    }
   ],
   "source": [
    "some_numbers[(some_numbers < 4) | (some_numbers >= 97)]\n",
    "# this needs the round brackets, not really sure why.\n"
   ]
  },
  {
   "cell_type": "markdown",
   "metadata": {
    "slideshow": {
     "slide_type": "slide"
    }
   },
   "source": [
    "We can be _really fancy_ too!  Allow me to introduce the:\n",
    "\n",
    "# 🎺 List comprehension 🎺\n",
    "\n",
    "This needs to resolve to a list of booleans that matches the list of inputs. It's filtering only for values that are True.\n",
    "\n",
    "If we use a list comprehension then we can do almost anything we like!"
   ]
  },
  {
   "cell_type": "code",
   "execution_count": 19,
   "metadata": {
    "slideshow": {
     "slide_type": "slide"
    }
   },
   "outputs": [
    {
     "name": "stdout",
     "output_type": "stream",
     "text": [
      "pattern: [False, False, False, False, False, False, False, True, True, True, False, False, True, False, False, False, True, False, False, True, False, False, True, False, False, False, False, False, False, False, False, False, True, True, True, True, True, True, False, False, False]\n"
     ]
    },
    {
     "data": {
      "text/plain": [
       "7                   Chicken\n",
       "8                Guinea pig\n",
       "9                    Donkey\n",
       "12        Western honey bee\n",
       "16                   pigeon\n",
       "19           Bactrian camel\n",
       "22               guineafowl\n",
       "32                   canary\n",
       "33            Society finch\n",
       "34              Fancy mouse\n",
       "35    Siamese fighting fish\n",
       "36    Fancy rat and Lab rat\n",
       "37                     mink\n",
       "dtype: object"
      ]
     },
     "execution_count": 19,
     "metadata": {},
     "output_type": "execute_result"
    }
   ],
   "source": [
    "pets = [\"Dog\", \"Goat\", \"pig\", \"Sheep\", \"Cattle\", \"Zebu\", \"Cat\", \"Chicken\", \"Guinea pig\",             \n",
    "        \"Donkey\", \"duck\", \"Water buffalo\", \"Western honey bee\", \"dromedary camel\", \"Horse\", \n",
    "        \"silkmoth\", \"pigeon\", \"goose\", \"Yak\", \"Bactrian camel\", \"Llama\", \"Alpaca\",   \n",
    "        \"guineafowl\", \"Ferret\", \"muscovy duck\", \"Barbary dove\", \"Bali cattle\", \"Gayal\",\n",
    "        \"turkey\", \"Goldfish\", \"rabbit\", \"Koi\", \"canary\", \"Society finch\", \"Fancy mouse\",\n",
    "        \"Siamese fighting fish\", \"Fancy rat and Lab rat\", \"mink\", \"red fox\", \"hedgehog\",\n",
    "        \"Guppy\"]\n",
    "\n",
    "pets_series = pd.Series(pets)\n",
    "pattern_of_bools = [(\"n\" in pet_name) for pet_name in pets_series]\n",
    "print(\"pattern:\",pattern_of_bools)\n",
    "\n",
    "pets_series[pattern_of_bools]"
   ]
  },
  {
   "cell_type": "markdown",
   "metadata": {
    "slideshow": {
     "slide_type": "-"
    }
   },
   "source": [
    "_Note: the first `in` means a different thing to the second `in`. I was wondering if I should leave this out, but it's probably good to expose you to strange stuff!_\n",
    "\n",
    "You've seen this _pattern_ before, we used to make the grids of stars etc."
   ]
  },
  {
   "cell_type": "code",
   "execution_count": 20,
   "metadata": {},
   "outputs": [
    {
     "data": {
      "text/plain": [
       "['Goat', 'Zebu', 'duck', 'mink']"
      ]
     },
     "execution_count": 20,
     "metadata": {},
     "output_type": "execute_result"
    }
   ],
   "source": [
    "pets_we_care_about = []\n",
    "for this_pet in pets:\n",
    "    if len(this_pet) == 4:\n",
    "        pets_we_care_about.append(this_pet)\n",
    "pets_we_care_about\n"
   ]
  },
  {
   "cell_type": "markdown",
   "metadata": {},
   "source": [
    "This comes up so often that python has a built in pattern for doing this called a _list comprehension_\n",
    "\n",
    "This one is pretty silly because it takes the contents of one list and makes a new list out of it. Not doing anything else along the way."
   ]
  },
  {
   "cell_type": "code",
   "execution_count": 21,
   "metadata": {},
   "outputs": [
    {
     "data": {
      "text/plain": [
       "['Dog',\n",
       " 'Goat',\n",
       " 'pig',\n",
       " 'Sheep',\n",
       " 'Cattle',\n",
       " 'Zebu',\n",
       " 'Cat',\n",
       " 'Chicken',\n",
       " 'Guinea pig',\n",
       " 'Donkey',\n",
       " 'duck',\n",
       " 'Water buffalo',\n",
       " 'Western honey bee',\n",
       " 'dromedary camel',\n",
       " 'Horse',\n",
       " 'silkmoth',\n",
       " 'pigeon',\n",
       " 'goose',\n",
       " 'Yak',\n",
       " 'Bactrian camel',\n",
       " 'Llama',\n",
       " 'Alpaca',\n",
       " 'guineafowl',\n",
       " 'Ferret',\n",
       " 'muscovy duck',\n",
       " 'Barbary dove',\n",
       " 'Bali cattle',\n",
       " 'Gayal',\n",
       " 'turkey',\n",
       " 'Goldfish',\n",
       " 'rabbit',\n",
       " 'Koi',\n",
       " 'canary',\n",
       " 'Society finch',\n",
       " 'Fancy mouse',\n",
       " 'Siamese fighting fish',\n",
       " 'Fancy rat and Lab rat',\n",
       " 'mink',\n",
       " 'red fox',\n",
       " 'hedgehog',\n",
       " 'Guppy']"
      ]
     },
     "execution_count": 21,
     "metadata": {},
     "output_type": "execute_result"
    }
   ],
   "source": [
    "[p for p in pets]"
   ]
  },
  {
   "cell_type": "markdown",
   "metadata": {},
   "source": [
    "This one converts the list to uppercase while it's doing the transfer"
   ]
  },
  {
   "cell_type": "code",
   "execution_count": 22,
   "metadata": {},
   "outputs": [
    {
     "data": {
      "text/plain": [
       "['DOG',\n",
       " 'GOAT',\n",
       " 'PIG',\n",
       " 'SHEEP',\n",
       " 'CATTLE',\n",
       " 'ZEBU',\n",
       " 'CAT',\n",
       " 'CHICKEN',\n",
       " 'GUINEA PIG',\n",
       " 'DONKEY',\n",
       " 'DUCK',\n",
       " 'WATER BUFFALO',\n",
       " 'WESTERN HONEY BEE',\n",
       " 'DROMEDARY CAMEL',\n",
       " 'HORSE',\n",
       " 'SILKMOTH',\n",
       " 'PIGEON',\n",
       " 'GOOSE',\n",
       " 'YAK',\n",
       " 'BACTRIAN CAMEL',\n",
       " 'LLAMA',\n",
       " 'ALPACA',\n",
       " 'GUINEAFOWL',\n",
       " 'FERRET',\n",
       " 'MUSCOVY DUCK',\n",
       " 'BARBARY DOVE',\n",
       " 'BALI CATTLE',\n",
       " 'GAYAL',\n",
       " 'TURKEY',\n",
       " 'GOLDFISH',\n",
       " 'RABBIT',\n",
       " 'KOI',\n",
       " 'CANARY',\n",
       " 'SOCIETY FINCH',\n",
       " 'FANCY MOUSE',\n",
       " 'SIAMESE FIGHTING FISH',\n",
       " 'FANCY RAT AND LAB RAT',\n",
       " 'MINK',\n",
       " 'RED FOX',\n",
       " 'HEDGEHOG',\n",
       " 'GUPPY']"
      ]
     },
     "execution_count": 22,
     "metadata": {},
     "output_type": "execute_result"
    }
   ],
   "source": [
    "[p.upper() for p in pets]"
   ]
  },
  {
   "cell_type": "markdown",
   "metadata": {},
   "source": [
    "And this one has a condition. It asks if each pet name `p` is exactly 4 characters long. If it is, it lets it through its filter."
   ]
  },
  {
   "cell_type": "code",
   "execution_count": 23,
   "metadata": {},
   "outputs": [
    {
     "data": {
      "text/plain": [
       "['Goat', 'Zebu', 'duck', 'mink']"
      ]
     },
     "execution_count": 23,
     "metadata": {},
     "output_type": "execute_result"
    }
   ],
   "source": [
    "[p for p in pets if len(p) == 4]\n"
   ]
  },
  {
   "cell_type": "markdown",
   "metadata": {},
   "source": [
    "And this one is doing both"
   ]
  },
  {
   "cell_type": "code",
   "execution_count": 24,
   "metadata": {},
   "outputs": [
    {
     "data": {
      "text/plain": [
       "['SHEEP', 'HORSE', 'GOOSE', 'LLAMA', 'GAYAL', 'GUPPY']"
      ]
     },
     "execution_count": 24,
     "metadata": {},
     "output_type": "execute_result"
    }
   ],
   "source": [
    "[p.upper() for p in pets if len(p) == 5]\n"
   ]
  },
  {
   "cell_type": "markdown",
   "metadata": {
    "slideshow": {
     "slide_type": "slide"
    }
   },
   "source": [
    "Anyway, back to our fines, it looks like we have a similar pattern of fines here, lots at the bottom end, not so many high value ones. \n",
    "\n",
    "This is using some pandas magic, not a list comprehension. The magic is that you can compare a series using < or > and get back a list of booleans. This wouldn't work using a list.\n",
    "\n",
    "Let's add one more thing too, to make these graphs less garbage 🗑, a title."
   ]
  },
  {
   "cell_type": "code",
   "execution_count": 25,
   "metadata": {
    "slideshow": {
     "slide_type": "fragment"
    }
   },
   "outputs": [
    {
     "data": {
      "text/plain": [
       "Text(0.5, 1.0, 'Prices of AirBnB in Tasmania under $1000')"
      ]
     },
     "execution_count": 25,
     "metadata": {},
     "output_type": "execute_result"
    },
    {
     "data": {
      "image/png": "[encoded data removed]",
      "text/plain": [
       "<Figure size 1000x500 with 1 Axes>"
      ]
     },
     "metadata": {},
     "output_type": "display_data"
    }
   ],
   "source": [
    "upper_bound = 1000\n",
    "penalty_data.price[penalty_data.price < upper_bound].hist()\n",
    "plt.title(f\"Prices of AirBnB in Tasmania under ${upper_bound}\")\n"
   ]
  },
  {
   "cell_type": "markdown",
   "metadata": {
    "slideshow": {
     "slide_type": "slide"
    }
   },
   "source": [
    "Let's see what's under $1000"
   ]
  },
  {
   "cell_type": "code",
   "execution_count": 26,
   "metadata": {
    "slideshow": {
     "slide_type": "-"
    }
   },
   "outputs": [
    {
     "data": {
      "text/plain": [
       "Text(0.5, 1.0, 'Prices of AirBnB in Tasmania under $500')"
      ]
     },
     "execution_count": 26,
     "metadata": {},
     "output_type": "execute_result"
    },
    {
     "data": {
      "image/png": "[encoded data removed]",
      "text/plain": [
       "<Figure size 1000x500 with 1 Axes>"
      ]
     },
     "metadata": {},
     "output_type": "display_data"
    }
   ],
   "source": [
    "upper_bound = 500\n",
    "penalty_data.price[penalty_data.price < upper_bound].hist()\n",
    "plt.title(f\"Prices of AirBnB in Tasmania under ${upper_bound}\")\n"
   ]
  },
  {
   "cell_type": "markdown",
   "metadata": {},
   "source": [
    "This warants some further investigation, but we'll come back to it in a bit. First, let's look at some of the other columns."
   ]
  },
  {
   "cell_type": "markdown",
   "metadata": {
    "slideshow": {
     "slide_type": "slide"
    }
   },
   "source": [
    "In the `LEGISLATION` column it tells us which law was invoked to give this fine. "
   ]
  },
  {
   "cell_type": "code",
   "execution_count": 27,
   "metadata": {},
   "outputs": [
    {
     "data": {
      "text/html": [
       "<div>\n",
       "<style scoped>\n",
       "    .dataframe tbody tr th:only-of-type {\n",
       "        vertical-align: middle;\n",
       "    }\n",
       "\n",
       "    .dataframe tbody tr th {\n",
       "        vertical-align: top;\n",
       "    }\n",
       "\n",
       "    .dataframe thead th {\n",
       "        text-align: right;\n",
       "    }\n",
       "</style>\n",
       "<table border=\"1\" class=\"dataframe\">\n",
       "  <thead>\n",
       "    <tr style=\"text-align: right;\">\n",
       "      <th></th>\n",
       "      <th>id</th>\n",
       "      <th>name</th>\n",
       "      <th>host_id</th>\n",
       "      <th>host_name</th>\n",
       "      <th>neighbourhood_group</th>\n",
       "      <th>neighbourhood</th>\n",
       "      <th>latitude</th>\n",
       "      <th>longitude</th>\n",
       "      <th>room_type</th>\n",
       "      <th>price</th>\n",
       "      <th>minimum_nights</th>\n",
       "      <th>number_of_reviews</th>\n",
       "      <th>last_review</th>\n",
       "      <th>reviews_per_month</th>\n",
       "      <th>calculated_host_listings_count</th>\n",
       "      <th>availability_365</th>\n",
       "      <th>number_of_reviews_ltm</th>\n",
       "      <th>license</th>\n",
       "    </tr>\n",
       "  </thead>\n",
       "  <tbody>\n",
       "    <tr>\n",
       "      <th>0</th>\n",
       "      <td>35644</td>\n",
       "      <td>Central Hobart Historic Cottage</td>\n",
       "      <td>153268</td>\n",
       "      <td>Yvette</td>\n",
       "      <td>NaN</td>\n",
       "      <td>Hobart</td>\n",
       "      <td>-42.87895</td>\n",
       "      <td>147.31526</td>\n",
       "      <td>Private room</td>\n",
       "      <td>57</td>\n",
       "      <td>1</td>\n",
       "      <td>257</td>\n",
       "      <td>2020-03-08</td>\n",
       "      <td>2.06</td>\n",
       "      <td>3</td>\n",
       "      <td>0</td>\n",
       "      <td>0</td>\n",
       "      <td>Exempt: This listing falls under Section 12 of...</td>\n",
       "    </tr>\n",
       "    <tr>\n",
       "      <th>1</th>\n",
       "      <td>84581</td>\n",
       "      <td>Kentisbury Country House Cradle Coast Tasmania</td>\n",
       "      <td>461471</td>\n",
       "      <td>Melissa</td>\n",
       "      <td>NaN</td>\n",
       "      <td>Kentish</td>\n",
       "      <td>-41.38856</td>\n",
       "      <td>146.23210</td>\n",
       "      <td>Entire home/apt</td>\n",
       "      <td>295</td>\n",
       "      <td>2</td>\n",
       "      <td>109</td>\n",
       "      <td>2023-02-27</td>\n",
       "      <td>1.24</td>\n",
       "      <td>1</td>\n",
       "      <td>316</td>\n",
       "      <td>45</td>\n",
       "      <td>Exempt: This listing falls under Section 12 of...</td>\n",
       "    </tr>\n",
       "  </tbody>\n",
       "</table>\n",
       "</div>"
      ],
      "text/plain": [
       "      id                                            name  host_id host_name  \\\n",
       "0  35644                 Central Hobart Historic Cottage   153268    Yvette   \n",
       "1  84581  Kentisbury Country House Cradle Coast Tasmania   461471   Melissa   \n",
       "\n",
       "   neighbourhood_group neighbourhood  latitude  longitude        room_type  \\\n",
       "0                  NaN        Hobart -42.87895  147.31526     Private room   \n",
       "1                  NaN       Kentish -41.38856  146.23210  Entire home/apt   \n",
       "\n",
       "   price  minimum_nights  number_of_reviews last_review  reviews_per_month  \\\n",
       "0     57               1                257  2020-03-08               2.06   \n",
       "1    295               2                109  2023-02-27               1.24   \n",
       "\n",
       "   calculated_host_listings_count  availability_365  number_of_reviews_ltm  \\\n",
       "0                               3                 0                      0   \n",
       "1                               1               316                     45   \n",
       "\n",
       "                                             license  \n",
       "0  Exempt: This listing falls under Section 12 of...  \n",
       "1  Exempt: This listing falls under Section 12 of...  "
      ]
     },
     "execution_count": 27,
     "metadata": {},
     "output_type": "execute_result"
    }
   ],
   "source": [
    "penalty_data.head(2)"
   ]
  },
  {
   "cell_type": "markdown",
   "metadata": {},
   "source": [
    "We can see that `FACE_VALUE` is numbers, we call that a _continuous_ value, so we can make histograms and other kinds of plots of it. `LEGISLATION` is strings, or _categorical_ values. We can't graph a string, but we can count how many times it shows up, and graph that number."
   ]
  },
  {
   "cell_type": "code",
   "execution_count": 28,
   "metadata": {
    "slideshow": {
     "slide_type": "-"
    }
   },
   "outputs": [
    {
     "data": {
      "text/plain": [
       "price\n",
       "200     135\n",
       "250     130\n",
       "150     110\n",
       "220     107\n",
       "120      95\n",
       "       ... \n",
       "452       1\n",
       "895       1\n",
       "580       1\n",
       "533       1\n",
       "4000      1\n",
       "Name: count, Length: 617, dtype: int64"
      ]
     },
     "execution_count": 28,
     "metadata": {},
     "output_type": "execute_result"
    }
   ],
   "source": [
    "penalty_data.price.value_counts()"
   ]
  },
  {
   "cell_type": "markdown",
   "metadata": {
    "slideshow": {
     "slide_type": "fragment"
    }
   },
   "source": [
    "*ROAD RULES 2008* and *2014* are pretty popular, but only one person got a ticket under the *COMBAT SPORTS REGULATION 2014* and one other person got booked for something under the *TATTOO PARLOURS REGULATION 2013*"
   ]
  },
  {
   "cell_type": "code",
   "execution_count": 29,
   "metadata": {
    "slideshow": {
     "slide_type": "slide"
    }
   },
   "outputs": [
    {
     "data": {
      "text/plain": [
       "<Axes: xlabel='price'>"
      ]
     },
     "execution_count": 29,
     "metadata": {},
     "output_type": "execute_result"
    },
    {
     "data": {
      "image/png": "[encoded data removed]",
      "text/plain": [
       "<Figure size 1000x500 with 1 Axes>"
      ]
     },
     "metadata": {},
     "output_type": "display_data"
    }
   ],
   "source": [
    "pdvc = penalty_data.price.value_counts() # This makes a series\n",
    "pdvc.plot(kind=\"bar\")"
   ]
  },
  {
   "cell_type": "markdown",
   "metadata": {
    "slideshow": {
     "slide_type": "slide"
    }
   },
   "source": [
    "We're going to see this distribution over and over again as we look at all kinds of data set.\n",
    "\n",
    "These are probably the most common distributions, but they leave off the [power law](https://en.wikipedia.org/wiki/Power_law), which I think this probably is. \n",
    "\n",
    "![some common distributions and their relationships](https://storage.ning.com/topology/rest/1.0/file/get/136706870?profile=original&width=600) \n",
    "\n",
    "from [here](https://www.datasciencecentral.com/profiles/blogs/common-probability-distributions-the-data-scientist-s-crib-sheet)"
   ]
  },
  {
   "cell_type": "code",
   "execution_count": 30,
   "metadata": {
    "slideshow": {
     "slide_type": "slide"
    }
   },
   "outputs": [
    {
     "data": {
      "image/png": "[encoded data removed]",
      "text/plain": [
       "<Figure size 1000x500 with 1 Axes>"
      ]
     },
     "metadata": {},
     "output_type": "display_data"
    }
   ],
   "source": [
    "pdvc = penalty_data.price.value_counts() \n",
    "pdvc[pdvc < 5000].plot(kind=\"bar\");"
   ]
  },
  {
   "cell_type": "markdown",
   "metadata": {
    "slideshow": {
     "slide_type": "slide"
    }
   },
   "source": [
    "This pattern keeps repeating itself:"
   ]
  },
  {
   "cell_type": "code",
   "execution_count": 31,
   "metadata": {
    "slideshow": {
     "slide_type": "slide"
    }
   },
   "outputs": [
    {
     "data": {
      "text/plain": [
       "<Axes: xlabel='price'>"
      ]
     },
     "execution_count": 31,
     "metadata": {},
     "output_type": "execute_result"
    },
    {
     "data": {
      "image/png": "[encoded data removed]",
      "text/plain": [
       "<Figure size 1000x500 with 1 Axes>"
      ]
     },
     "metadata": {},
     "output_type": "display_data"
    }
   ],
   "source": [
    "pdvc[pdvc < 1000].plot(kind=\"bar\")"
   ]
  },
  {
   "cell_type": "code",
   "execution_count": 32,
   "metadata": {
    "slideshow": {
     "slide_type": "slide"
    }
   },
   "outputs": [
    {
     "data": {
      "text/plain": [
       "<Axes: xlabel='price'>"
      ]
     },
     "execution_count": 32,
     "metadata": {},
     "output_type": "execute_result"
    },
    {
     "data": {
      "image/png": "[encoded data removed]",
      "text/plain": [
       "<Figure size 1000x500 with 1 Axes>"
      ]
     },
     "metadata": {},
     "output_type": "display_data"
    }
   ],
   "source": [
    "pdvc[pdvc < 100].plot(kind=\"bar\")"
   ]
  },
  {
   "cell_type": "markdown",
   "metadata": {},
   "source": [
    "There are a bunch of _keyword arguments_ that you can give to the `plot` function. In this case, let's flip it on into its side so we can read the labels more easily:"
   ]
  },
  {
   "cell_type": "code",
   "execution_count": 33,
   "metadata": {
    "slideshow": {
     "slide_type": "slide"
    }
   },
   "outputs": [
    {
     "data": {
      "text/plain": [
       "<Axes: ylabel='price'>"
      ]
     },
     "execution_count": 33,
     "metadata": {},
     "output_type": "execute_result"
    },
    {
     "data": {
      "image/png": "[encoded data removed]",
      "text/plain": [
       "<Figure size 1000x500 with 1 Axes>"
      ]
     },
     "metadata": {},
     "output_type": "display_data"
    }
   ],
   "source": [
    "pdvc[pdvc < 3].plot(kind=\"barh\")"
   ]
  },
  {
   "cell_type": "markdown",
   "metadata": {
    "slideshow": {
     "slide_type": "slide"
    }
   },
   "source": [
    "# Making plots nice"
   ]
  },
  {
   "cell_type": "markdown",
   "metadata": {
    "slideshow": {
     "slide_type": "slide"
    }
   },
   "source": [
    "I said we'd come back to our histogram. [Here's a demo histogram from the matplotlib website](http://matplotlib.org/1.2.1/examples/pylab_examples/histogram_demo.html)."
   ]
  },
  {
   "cell_type": "code",
   "execution_count": 34,
   "metadata": {},
   "outputs": [],
   "source": [
    "# This bit makes some random data. Ignore it unless you are a total nerd\n",
    "mu = 100\n",
    "sigma = 15\n",
    "x = mu + sigma * np.random.randn(10000)\n"
   ]
  },
  {
   "cell_type": "code",
   "execution_count": 35,
   "metadata": {},
   "outputs": [
    {
     "data": {
      "image/png": "[encoded data removed]",
      "text/plain": [
       "<Figure size 1000x500 with 1 Axes>"
      ]
     },
     "metadata": {},
     "output_type": "display_data"
    }
   ],
   "source": [
    "# the histogram of the data\n",
    "plt.hist(x, 50, density=1, facecolor=\"green\", alpha=0.75)\n",
    "plt.xlabel(\"Smarts\")\n",
    "plt.ylabel(\"Probability\")\n",
    "plt.title(\n",
    "    r\"$\\mathrm{Histogram\\ of\\ IQ:}\\ \\mu=100,\\ \\sigma=15$\"\n",
    ")  # allows for latex formatting\n",
    "plt.grid(True)\n",
    "# plt.show()\n"
   ]
  },
  {
   "cell_type": "markdown",
   "metadata": {
    "slideshow": {
     "slide_type": "slide"
    }
   },
   "source": [
    "Here's how we made our histogram before:"
   ]
  },
  {
   "cell_type": "code",
   "execution_count": 36,
   "metadata": {},
   "outputs": [
    {
     "data": {
      "text/plain": [
       "<Axes: >"
      ]
     },
     "execution_count": 36,
     "metadata": {},
     "output_type": "execute_result"
    },
    {
     "data": {
      "image/png": "[encoded data removed]",
      "text/plain": [
       "<Figure size 1000x500 with 1 Axes>"
      ]
     },
     "metadata": {},
     "output_type": "display_data"
    }
   ],
   "source": [
    "penalty_data.price[penalty_data.price < 1000].hist()\n"
   ]
  },
  {
   "cell_type": "markdown",
   "metadata": {
    "slideshow": {
     "slide_type": "slide"
    }
   },
   "source": [
    "This is using the graphing tools from inside pandas\n",
    "\n",
    "And this is how we'd change it so that we can add more features, by using Matplotlib directly:"
   ]
  },
  {
   "cell_type": "code",
   "execution_count": 37,
   "metadata": {},
   "outputs": [
    {
     "data": {
      "image/png": "[encoded data removed]",
      "text/plain": [
       "<Figure size 1000x500 with 1 Axes>"
      ]
     },
     "metadata": {},
     "output_type": "display_data"
    }
   ],
   "source": [
    "capped_face_value_data = penalty_data.price[penalty_data.price < 1000]\n",
    "\n",
    "plt.hist(capped_face_value_data)\n",
    "plt.show()\n"
   ]
  },
  {
   "cell_type": "markdown",
   "metadata": {
    "collapsed": true,
    "slideshow": {
     "slide_type": "slide"
    }
   },
   "source": [
    "Let's look at some of the things we can do to this. The docs for histograms are here: http://matplotlib.org/api/pyplot_api.html#matplotlib.pyplot.hist"
   ]
  },
  {
   "cell_type": "code",
   "execution_count": 38,
   "metadata": {},
   "outputs": [
    {
     "data": {
      "image/png": "[encoded data removed]",
      "text/plain": [
       "<Figure size 1000x500 with 1 Axes>"
      ]
     },
     "metadata": {},
     "output_type": "display_data"
    }
   ],
   "source": [
    "capped_face_value_data = penalty_data.price[penalty_data.price < 1000]\n",
    "\n",
    "# We can keep adding things to this plot to see what's going on.\n",
    "plt.hist(capped_face_value_data, bins=10, facecolor=\"blue\", alpha=0.2)  # <-old one\n",
    "plt.hist(capped_face_value_data, bins=50, facecolor=\"green\", alpha=1)  # <-new one\n",
    "plt.show()\n"
   ]
  },
  {
   "cell_type": "markdown",
   "metadata": {
    "slideshow": {
     "slide_type": "slide"
    }
   },
   "source": [
    "We can go back to our initial, unfiltered, data:"
   ]
  },
  {
   "cell_type": "code",
   "execution_count": 39,
   "metadata": {},
   "outputs": [
    {
     "data": {
      "image/png": "[encoded data removed]",
      "text/plain": [
       "<Figure size 1000x500 with 1 Axes>"
      ]
     },
     "metadata": {},
     "output_type": "display_data"
    }
   ],
   "source": [
    "plt.hist(penalty_data.price, bins=50)\n",
    "plt.show()"
   ]
  },
  {
   "cell_type": "markdown",
   "metadata": {
    "slideshow": {
     "slide_type": "slide"
    }
   },
   "source": [
    "Instead of doing the filtering before we present the data, we can use the graph to hide the extents of an axis:"
   ]
  },
  {
   "cell_type": "code",
   "execution_count": 40,
   "metadata": {},
   "outputs": [
    {
     "data": {
      "image/png": "[encoded data removed]",
      "text/plain": [
       "<Figure size 1000x500 with 1 Axes>"
      ]
     },
     "metadata": {},
     "output_type": "display_data"
    }
   ],
   "source": [
    "plt.hist(penalty_data[\"price\"], bins=50, range=(0, 500))\n",
    "plt.show()"
   ]
  },
  {
   "cell_type": "markdown",
   "metadata": {
    "slideshow": {
     "slide_type": "slide"
    }
   },
   "source": [
    "We can nice that up a bit by pulling the parameters out as variables:\n",
    "(unmagically, no difference!)"
   ]
  },
  {
   "cell_type": "code",
   "execution_count": 41,
   "metadata": {},
   "outputs": [
    {
     "data": {
      "image/png": "[encoded data removed]",
      "text/plain": [
       "<Figure size 1000x500 with 1 Axes>"
      ]
     },
     "metadata": {},
     "output_type": "display_data"
    }
   ],
   "source": [
    "number_of_bins = 50\n",
    "lower_bound = 0\n",
    "upper_bound = 1000\n",
    "plt.hist(\n",
    "    penalty_data.price,\n",
    "    bins=number_of_bins,\n",
    "    range=(lower_bound, upper_bound),\n",
    ")\n",
    "plt.show()\n"
   ]
  },
  {
   "cell_type": "markdown",
   "metadata": {},
   "source": [
    "This is still pretty naughty, we should have at least a title and some axis lables.\n",
    "\n",
    "We do that by setting some more properties on the `plt` object.\n",
    "\n",
    "Definitely a title and some axis labels. If you make charts/plots without axis labels, Linus Torvalds kills a kitten."
   ]
  },
  {
   "cell_type": "code",
   "execution_count": 42,
   "metadata": {
    "scrolled": false,
    "slideshow": {
     "slide_type": "-"
    }
   },
   "outputs": [
    {
     "data": {
      "image/png": "[encoded data removed]",
      "text/plain": [
       "<Figure size 1000x500 with 1 Axes>"
      ]
     },
     "metadata": {},
     "output_type": "display_data"
    }
   ],
   "source": [
    "number_of_bins = 100\n",
    "lower_bound = 0\n",
    "upper_bound = 1000\n",
    "\n",
    "plt.hist(penalty_data.price, bins=number_of_bins, range=(lower_bound, upper_bound))\n",
    "plt.title(\"Number of fines of a given value issued in this period\", fontsize=15)\n",
    "plt.xlabel(\"$ value of fine\", fontsize=26)\n",
    "plt.ylabel(\"Count\", fontsize=16)\n",
    "plt.grid(True)\n",
    "plt.show()\n"
   ]
  },
  {
   "cell_type": "markdown",
   "metadata": {
    "slideshow": {
     "slide_type": "slide"
    }
   },
   "source": [
    "We could get the dates from the dataset if we wanted to be clever about it. But at the moment, the dates are just strings, not useful date objects. Let's fix that.\n",
    "\n",
    "If we reimport the date, but with a bit more cleverness, we can tell pandas to convert the dates to actual dates.\n",
    "\n",
    "Because _we_ are civilised, we use either iso dates `YYYY-MM-DD` or `DD-MM-YYYY`, but often you'll have to deal with data prepared by savages who don't respect this rational behaviour. They will use `MM-DD-YY` and other such primitive formats.\n",
    "\n",
    "The settings used here control how it's read. You can only really tell by looking at the data and working it out. E.g. are there months bigger than 12?"
   ]
  },
  {
   "cell_type": "code",
   "execution_count": 43,
   "metadata": {
    "slideshow": {
     "slide_type": "-"
    }
   },
   "outputs": [
    {
     "name": "stderr",
     "output_type": "stream",
     "text": [
      "C:\\Users\\User\\AppData\\Local\\Temp\\ipykernel_40944\\3117102723.py:1: FutureWarning: The argument 'infer_datetime_format' is deprecated and will be removed in a future version. A strict version of it is now the default, see https://pandas.pydata.org/pdeps/0004-consistent-to-datetime-parsing.html. You can safely remove this argument.\n",
      "  penalty_data = pd.read_csv(\n",
      "C:\\Users\\User\\AppData\\Local\\Temp\\ipykernel_40944\\3117102723.py:1: UserWarning: Could not infer format, so each element will be parsed individually, falling back to `dateutil`. To ensure parsing is consistent and as-expected, please specify a format.\n",
      "  penalty_data = pd.read_csv(\n"
     ]
    },
    {
     "data": {
      "text/html": [
       "<div>\n",
       "<style scoped>\n",
       "    .dataframe tbody tr th:only-of-type {\n",
       "        vertical-align: middle;\n",
       "    }\n",
       "\n",
       "    .dataframe tbody tr th {\n",
       "        vertical-align: top;\n",
       "    }\n",
       "\n",
       "    .dataframe thead th {\n",
       "        text-align: right;\n",
       "    }\n",
       "</style>\n",
       "<table border=\"1\" class=\"dataframe\">\n",
       "  <thead>\n",
       "    <tr style=\"text-align: right;\">\n",
       "      <th></th>\n",
       "      <th>id</th>\n",
       "      <th>name</th>\n",
       "      <th>host_id</th>\n",
       "      <th>host_name</th>\n",
       "      <th>neighbourhood_group</th>\n",
       "      <th>neighbourhood</th>\n",
       "      <th>latitude</th>\n",
       "      <th>longitude</th>\n",
       "      <th>room_type</th>\n",
       "      <th>price</th>\n",
       "      <th>minimum_nights</th>\n",
       "      <th>number_of_reviews</th>\n",
       "      <th>last_review</th>\n",
       "      <th>reviews_per_month</th>\n",
       "      <th>calculated_host_listings_count</th>\n",
       "      <th>availability_365</th>\n",
       "      <th>number_of_reviews_ltm</th>\n",
       "      <th>license</th>\n",
       "    </tr>\n",
       "  </thead>\n",
       "  <tbody>\n",
       "    <tr>\n",
       "      <th>0</th>\n",
       "      <td>35644</td>\n",
       "      <td>Central Hobart Historic Cottage</td>\n",
       "      <td>153268</td>\n",
       "      <td>Yvette</td>\n",
       "      <td>NaN</td>\n",
       "      <td>Hobart</td>\n",
       "      <td>-42.87895</td>\n",
       "      <td>147.31526</td>\n",
       "      <td>Private room</td>\n",
       "      <td>57</td>\n",
       "      <td>1</td>\n",
       "      <td>257</td>\n",
       "      <td>2020-03-08</td>\n",
       "      <td>2.06</td>\n",
       "      <td>3</td>\n",
       "      <td>0</td>\n",
       "      <td>0</td>\n",
       "      <td>Exempt: This listing falls under Section 12 of...</td>\n",
       "    </tr>\n",
       "    <tr>\n",
       "      <th>1</th>\n",
       "      <td>84581</td>\n",
       "      <td>Kentisbury Country House Cradle Coast Tasmania</td>\n",
       "      <td>461471</td>\n",
       "      <td>Melissa</td>\n",
       "      <td>NaN</td>\n",
       "      <td>Kentish</td>\n",
       "      <td>-41.38856</td>\n",
       "      <td>146.23210</td>\n",
       "      <td>Entire home/apt</td>\n",
       "      <td>295</td>\n",
       "      <td>2</td>\n",
       "      <td>109</td>\n",
       "      <td>2023-02-27</td>\n",
       "      <td>1.24</td>\n",
       "      <td>1</td>\n",
       "      <td>316</td>\n",
       "      <td>45</td>\n",
       "      <td>Exempt: This listing falls under Section 12 of...</td>\n",
       "    </tr>\n",
       "    <tr>\n",
       "      <th>2</th>\n",
       "      <td>137808</td>\n",
       "      <td>Bradman House CBD Launceston Invermay + Free WIFI</td>\n",
       "      <td>673625</td>\n",
       "      <td>Emma And Dale</td>\n",
       "      <td>NaN</td>\n",
       "      <td>Launceston</td>\n",
       "      <td>-41.42683</td>\n",
       "      <td>147.12905</td>\n",
       "      <td>Entire home/apt</td>\n",
       "      <td>239</td>\n",
       "      <td>1</td>\n",
       "      <td>335</td>\n",
       "      <td>2023-03-04</td>\n",
       "      <td>2.49</td>\n",
       "      <td>2</td>\n",
       "      <td>336</td>\n",
       "      <td>74</td>\n",
       "      <td>DA0518/2019</td>\n",
       "    </tr>\n",
       "    <tr>\n",
       "      <th>3</th>\n",
       "      <td>268482</td>\n",
       "      <td>Anderson Suite, The Ark Stanley, Guest House</td>\n",
       "      <td>1406692</td>\n",
       "      <td>Rhonda</td>\n",
       "      <td>NaN</td>\n",
       "      <td>Circular Head</td>\n",
       "      <td>-40.76467</td>\n",
       "      <td>145.29878</td>\n",
       "      <td>Private room</td>\n",
       "      <td>367</td>\n",
       "      <td>1</td>\n",
       "      <td>5</td>\n",
       "      <td>2022-02-05</td>\n",
       "      <td>0.06</td>\n",
       "      <td>7</td>\n",
       "      <td>241</td>\n",
       "      <td>0</td>\n",
       "      <td>Exempt: This listing falls under Section 12 of...</td>\n",
       "    </tr>\n",
       "    <tr>\n",
       "      <th>4</th>\n",
       "      <td>88873</td>\n",
       "      <td>Terrace- 5mins to central Hobart</td>\n",
       "      <td>485048</td>\n",
       "      <td>Russell And Ingrid</td>\n",
       "      <td>NaN</td>\n",
       "      <td>Hobart</td>\n",
       "      <td>-42.88267</td>\n",
       "      <td>147.32400</td>\n",
       "      <td>Entire home/apt</td>\n",
       "      <td>125</td>\n",
       "      <td>2</td>\n",
       "      <td>541</td>\n",
       "      <td>2023-03-06</td>\n",
       "      <td>3.76</td>\n",
       "      <td>1</td>\n",
       "      <td>169</td>\n",
       "      <td>57</td>\n",
       "      <td>Exempt: This listing falls under Section 12 of...</td>\n",
       "    </tr>\n",
       "    <tr>\n",
       "      <th>5</th>\n",
       "      <td>270374</td>\n",
       "      <td>Powerhouse Studio Eagles Rise - Cradle Mountn ...</td>\n",
       "      <td>1090010</td>\n",
       "      <td>Kit</td>\n",
       "      <td>NaN</td>\n",
       "      <td>Central Coast</td>\n",
       "      <td>-41.23613</td>\n",
       "      <td>146.13492</td>\n",
       "      <td>Entire home/apt</td>\n",
       "      <td>195</td>\n",
       "      <td>2</td>\n",
       "      <td>84</td>\n",
       "      <td>2023-02-03</td>\n",
       "      <td>0.84</td>\n",
       "      <td>2</td>\n",
       "      <td>15</td>\n",
       "      <td>13</td>\n",
       "      <td>Exempt: This listing falls under the 'home sha...</td>\n",
       "    </tr>\n",
       "    <tr>\n",
       "      <th>6</th>\n",
       "      <td>292399</td>\n",
       "      <td>Rainbow Valley Retreat, Ellendale</td>\n",
       "      <td>1513972</td>\n",
       "      <td>Mandy</td>\n",
       "      <td>NaN</td>\n",
       "      <td>Central Highlands</td>\n",
       "      <td>-42.62260</td>\n",
       "      <td>146.71441</td>\n",
       "      <td>Private room</td>\n",
       "      <td>130</td>\n",
       "      <td>1</td>\n",
       "      <td>195</td>\n",
       "      <td>2023-02-23</td>\n",
       "      <td>1.57</td>\n",
       "      <td>1</td>\n",
       "      <td>340</td>\n",
       "      <td>15</td>\n",
       "      <td>Exempt: This listing falls under the 'home sha...</td>\n",
       "    </tr>\n",
       "    <tr>\n",
       "      <th>7</th>\n",
       "      <td>252996</td>\n",
       "      <td>Cosy Cabin @ Eagles Rise - Cradle Mountain 1 hour</td>\n",
       "      <td>1090010</td>\n",
       "      <td>Kit</td>\n",
       "      <td>NaN</td>\n",
       "      <td>Central Coast</td>\n",
       "      <td>-41.23570</td>\n",
       "      <td>146.13479</td>\n",
       "      <td>Entire home/apt</td>\n",
       "      <td>120</td>\n",
       "      <td>2</td>\n",
       "      <td>71</td>\n",
       "      <td>2023-03-04</td>\n",
       "      <td>0.54</td>\n",
       "      <td>2</td>\n",
       "      <td>67</td>\n",
       "      <td>15</td>\n",
       "      <td>Exempt: This listing falls under the 'home sha...</td>\n",
       "    </tr>\n",
       "    <tr>\n",
       "      <th>8</th>\n",
       "      <td>401176</td>\n",
       "      <td>Hobart Delight - sunny and welcoming</td>\n",
       "      <td>2002482</td>\n",
       "      <td>Diana</td>\n",
       "      <td>NaN</td>\n",
       "      <td>Hobart</td>\n",
       "      <td>-42.87002</td>\n",
       "      <td>147.32302</td>\n",
       "      <td>Private room</td>\n",
       "      <td>130</td>\n",
       "      <td>2</td>\n",
       "      <td>91</td>\n",
       "      <td>2023-01-06</td>\n",
       "      <td>0.72</td>\n",
       "      <td>1</td>\n",
       "      <td>316</td>\n",
       "      <td>5</td>\n",
       "      <td>Exempt: This listing falls under the 'home sha...</td>\n",
       "    </tr>\n",
       "    <tr>\n",
       "      <th>9</th>\n",
       "      <td>326771</td>\n",
       "      <td>Derwent Retreat</td>\n",
       "      <td>1670767</td>\n",
       "      <td>John</td>\n",
       "      <td>NaN</td>\n",
       "      <td>Glenorchy</td>\n",
       "      <td>-42.77808</td>\n",
       "      <td>147.25650</td>\n",
       "      <td>Entire home/apt</td>\n",
       "      <td>240</td>\n",
       "      <td>2</td>\n",
       "      <td>42</td>\n",
       "      <td>2023-01-08</td>\n",
       "      <td>0.48</td>\n",
       "      <td>1</td>\n",
       "      <td>257</td>\n",
       "      <td>11</td>\n",
       "      <td>Exempt: This listing falls under Section 12 of...</td>\n",
       "    </tr>\n",
       "  </tbody>\n",
       "</table>\n",
       "</div>"
      ],
      "text/plain": [
       "       id                                               name  host_id  \\\n",
       "0   35644                    Central Hobart Historic Cottage   153268   \n",
       "1   84581     Kentisbury Country House Cradle Coast Tasmania   461471   \n",
       "2  137808  Bradman House CBD Launceston Invermay + Free WIFI   673625   \n",
       "3  268482       Anderson Suite, The Ark Stanley, Guest House  1406692   \n",
       "4   88873                   Terrace- 5mins to central Hobart   485048   \n",
       "5  270374  Powerhouse Studio Eagles Rise - Cradle Mountn ...  1090010   \n",
       "6  292399                  Rainbow Valley Retreat, Ellendale  1513972   \n",
       "7  252996  Cosy Cabin @ Eagles Rise - Cradle Mountain 1 hour  1090010   \n",
       "8  401176               Hobart Delight - sunny and welcoming  2002482   \n",
       "9  326771                                    Derwent Retreat  1670767   \n",
       "\n",
       "            host_name  neighbourhood_group      neighbourhood  latitude  \\\n",
       "0              Yvette                  NaN             Hobart -42.87895   \n",
       "1             Melissa                  NaN            Kentish -41.38856   \n",
       "2       Emma And Dale                  NaN         Launceston -41.42683   \n",
       "3              Rhonda                  NaN      Circular Head -40.76467   \n",
       "4  Russell And Ingrid                  NaN             Hobart -42.88267   \n",
       "5                 Kit                  NaN      Central Coast -41.23613   \n",
       "6               Mandy                  NaN  Central Highlands -42.62260   \n",
       "7                 Kit                  NaN      Central Coast -41.23570   \n",
       "8               Diana                  NaN             Hobart -42.87002   \n",
       "9                John                  NaN          Glenorchy -42.77808   \n",
       "\n",
       "   longitude        room_type price  minimum_nights  number_of_reviews  \\\n",
       "0  147.31526     Private room    57               1                257   \n",
       "1  146.23210  Entire home/apt   295               2                109   \n",
       "2  147.12905  Entire home/apt   239               1                335   \n",
       "3  145.29878     Private room   367               1                  5   \n",
       "4  147.32400  Entire home/apt   125               2                541   \n",
       "5  146.13492  Entire home/apt   195               2                 84   \n",
       "6  146.71441     Private room   130               1                195   \n",
       "7  146.13479  Entire home/apt   120               2                 71   \n",
       "8  147.32302     Private room   130               2                 91   \n",
       "9  147.25650  Entire home/apt   240               2                 42   \n",
       "\n",
       "  last_review  reviews_per_month  calculated_host_listings_count  \\\n",
       "0  2020-03-08               2.06                               3   \n",
       "1  2023-02-27               1.24                               1   \n",
       "2  2023-03-04               2.49                               2   \n",
       "3  2022-02-05               0.06                               7   \n",
       "4  2023-03-06               3.76                               1   \n",
       "5  2023-02-03               0.84                               2   \n",
       "6  2023-02-23               1.57                               1   \n",
       "7  2023-03-04               0.54                               2   \n",
       "8  2023-01-06               0.72                               1   \n",
       "9  2023-01-08               0.48                               1   \n",
       "\n",
       "   availability_365  number_of_reviews_ltm  \\\n",
       "0                 0                      0   \n",
       "1               316                     45   \n",
       "2               336                     74   \n",
       "3               241                      0   \n",
       "4               169                     57   \n",
       "5                15                     13   \n",
       "6               340                     15   \n",
       "7                67                     15   \n",
       "8               316                      5   \n",
       "9               257                     11   \n",
       "\n",
       "                                             license  \n",
       "0  Exempt: This listing falls under Section 12 of...  \n",
       "1  Exempt: This listing falls under Section 12 of...  \n",
       "2                                        DA0518/2019  \n",
       "3  Exempt: This listing falls under Section 12 of...  \n",
       "4  Exempt: This listing falls under Section 12 of...  \n",
       "5  Exempt: This listing falls under the 'home sha...  \n",
       "6  Exempt: This listing falls under the 'home sha...  \n",
       "7  Exempt: This listing falls under the 'home sha...  \n",
       "8  Exempt: This listing falls under the 'home sha...  \n",
       "9  Exempt: This listing falls under Section 12 of...  "
      ]
     },
     "execution_count": 43,
     "metadata": {},
     "output_type": "execute_result"
    }
   ],
   "source": [
    "penalty_data = pd.read_csv(\n",
    "    \"TAS AirBnb.csv\",\n",
    "    infer_datetime_format=True,\n",
    "    parse_dates=[\"price\"],\n",
    "    dayfirst=True,\n",
    ")\n",
    "penalty_data.head(10)\n"
   ]
  },
  {
   "cell_type": "markdown",
   "metadata": {},
   "source": [
    "This is some straight up, powerful voodoo.\n",
    "\n",
    "We can use a simple `min()` and `max()` method on the column to get the date range."
   ]
  },
  {
   "cell_type": "code",
   "execution_count": 44,
   "metadata": {},
   "outputs": [
    {
     "data": {
      "text/plain": [
       "'range is: 100 to 999'"
      ]
     },
     "execution_count": 44,
     "metadata": {},
     "output_type": "execute_result"
    }
   ],
   "source": [
    "first_date = penalty_data.price.min()\n",
    "last_date = penalty_data.price.max()\n",
    "f\"range is: {first_date} to {last_date}\"\n"
   ]
  },
  {
   "cell_type": "markdown",
   "metadata": {},
   "source": [
    "That's not very nice to look at, so we can [use `strftime`](https://strftime.org/), which is one of the most spooky and powerful things in the python toolbox"
   ]
  },
  {
   "cell_type": "code",
   "execution_count": 45,
   "metadata": {},
   "outputs": [
    {
     "ename": "TypeError",
     "evalue": "descriptor 'strftime' for 'datetime.date' objects doesn't apply to a 'numpy.int64' object",
     "output_type": "error",
     "traceback": [
      "\u001b[1;31m---------------------------------------------------------------------------\u001b[0m",
      "\u001b[1;31mTypeError\u001b[0m                                 Traceback (most recent call last)",
      "Cell \u001b[1;32mIn[45], line 2\u001b[0m\n\u001b[0;32m      1\u001b[0m date_format_pattern \u001b[39m=\u001b[39m \u001b[39m\"\u001b[39m\u001b[39m%\u001b[39m\u001b[39mB, \u001b[39m\u001b[39m%\u001b[39m\u001b[39mY\u001b[39m\u001b[39m\"\u001b[39m\n\u001b[1;32m----> 2\u001b[0m earliest_date \u001b[39m=\u001b[39m datetime\u001b[39m.\u001b[39;49mstrftime(penalty_data\u001b[39m.\u001b[39;49mnumber_of_reviews\u001b[39m.\u001b[39;49mmin(), date_format_pattern)\n\u001b[0;32m      3\u001b[0m latest_date \u001b[39m=\u001b[39m datetime\u001b[39m.\u001b[39mstrftime(penalty_data\u001b[39m.\u001b[39mnumber_of_reviews\u001b[39m.\u001b[39mmax(), date_format_pattern)\n\u001b[0;32m      4\u001b[0m \u001b[39mf\u001b[39m\u001b[39m\"\u001b[39m\u001b[39mrange is: \u001b[39m\u001b[39m{\u001b[39;00mearliest_date\u001b[39m}\u001b[39;00m\u001b[39m to \u001b[39m\u001b[39m{\u001b[39;00mlatest_date\u001b[39m}\u001b[39;00m\u001b[39m\"\u001b[39m\n",
      "\u001b[1;31mTypeError\u001b[0m: descriptor 'strftime' for 'datetime.date' objects doesn't apply to a 'numpy.int64' object"
     ]
    }
   ],
   "source": [
    "date_format_pattern = \"%B, %Y\"\n",
    "earliest_date = datetime.strftime(penalty_data.number_of_reviews.min(), date_format_pattern)\n",
    "latest_date = datetime.strftime(penalty_data.number_of_reviews.max(), date_format_pattern)\n",
    "f\"range is: {earliest_date} to {latest_date}\"\n"
   ]
  },
  {
   "cell_type": "markdown",
   "metadata": {},
   "source": [
    "Which means that we can put those values into our graph title:"
   ]
  },
  {
   "cell_type": "code",
   "execution_count": null,
   "metadata": {},
   "outputs": [],
   "source": [
    "number_of_bins = 100\n",
    "lower_bound = 0\n",
    "upper_bound = 1000\n",
    "\n",
    "plt.hist(\n",
    "    penalty_data[\"number_of_reviews\"], bins=number_of_bins, range=(lower_bound, upper_bound)\n",
    ")\n",
    "plt.title(\n",
    "    f\"Number of fines of a given value issued between {earliest_date} & {latest_date}\",\n",
    "    fontsize=12,\n",
    ")\n",
    "plt.xlabel(\"$ value of fine\", fontsize=10)\n",
    "plt.ylabel(\"Count\", fontsize=10)\n",
    "plt.grid(True)\n",
    "plt.show()\n"
   ]
  },
  {
   "cell_type": "markdown",
   "metadata": {
    "slideshow": {
     "slide_type": "slide"
    }
   },
   "source": [
    "We're grouping the fines by month, and then adding up the groups. Pandas' `groupby` feature allows for all kinds of clever stuff like that.\n",
    "\n",
    "I'm not going to explain `groupby` here, just be aware that it exists, and when you need it, we can go over it again."
   ]
  },
  {
   "cell_type": "code",
   "execution_count": null,
   "metadata": {
    "slideshow": {
     "slide_type": "subslide"
    }
   },
   "outputs": [],
   "source": [
    "income = penalty_data[[\"number_of_reviews\", \"price\"]].groupby(\"price\").sum()\n",
    "\n",
    "plt.xkcd()\n",
    "plt.plot(income, \"x-\")\n",
    "plt.title(\"Monthly income from fines\", fontsize=18)\n",
    "plt.xlabel(\"Date\", fontsize=26)\n",
    "plt.ylabel(\"$ Value\", fontsize=26)\n",
    "plt.grid(True)\n",
    "plt.show()\n"
   ]
  },
  {
   "cell_type": "code",
   "execution_count": null,
   "metadata": {
    "slideshow": {
     "slide_type": "skip"
    }
   },
   "outputs": [],
   "source": [
    "matplotlib.rcParams.update(\n",
    "    saved_style_state\n",
    ")  # revert to regular matplotlib styles, not xkcd\n"
   ]
  },
  {
   "cell_type": "markdown",
   "metadata": {
    "slideshow": {
     "slide_type": "slide"
    }
   },
   "source": [
    "I don't expect you to learn this this week, I just want to give you a taste of what can be done, quite simply, with pandas and matplotlib.\n",
    "\n",
    "# some tricky tricks\n",
    "\n",
    "Say you have a _lot_ of rows, running things on them takes a long time. You can test on a subset of that and then come bakc to the full dataframe once you are more sure that it works.\n",
    "\n",
    "To do this we can use python slices in combination with the dataframe's `.loc` property."
   ]
  },
  {
   "cell_type": "code",
   "execution_count": null,
   "metadata": {},
   "outputs": [],
   "source": [
    "ss = penalty_data.loc[:5]\n"
   ]
  },
  {
   "cell_type": "markdown",
   "metadata": {
    "slideshow": {
     "slide_type": "slide"
    }
   },
   "source": [
    "Let's say you want to apply a function to each row in a dataframe, and save the result as a new column in the dataframe. This is where `apply` come in handy."
   ]
  },
  {
   "cell_type": "code",
   "execution_count": null,
   "metadata": {
    "slideshow": {
     "slide_type": "subslide"
    }
   },
   "outputs": [],
   "source": [
    "ss[\"day_from_lambda\"] = ss.apply(lambda x: x.number_of_reviews, axis=1)\n",
    "ss.head(2)\n"
   ]
  },
  {
   "cell_type": "markdown",
   "metadata": {
    "slideshow": {
     "slide_type": "subslide"
    }
   },
   "source": [
    "Above is equivalent to below, it's up to you to decide what is more readable."
   ]
  },
  {
   "cell_type": "code",
   "execution_count": null,
   "metadata": {
    "slideshow": {
     "slide_type": "-"
    }
   },
   "outputs": [],
   "source": [
    "def my_f(x):\n",
    "    return x.number_of_reviews\n",
    "\n",
    "\n",
    "ss[\"day_from_function\"] = ss.apply(my_f, axis=1)\n",
    "ss.head(1)\n"
   ]
  },
  {
   "cell_type": "markdown",
   "metadata": {},
   "source": [
    "Scroll all the way to the right to see the new column that we've created. Both of these ways of doing this make dan-numbers. What if we wanted to get day names? That's much easier to graph. W can use `strftime` again:"
   ]
  },
  {
   "cell_type": "code",
   "execution_count": null,
   "metadata": {},
   "outputs": [],
   "source": [
    "def my_f(x):\n",
    "    return datetime.strftime(x.number_of_reviews, \"%A\")\n",
    "\n",
    "\n",
    "ss[\"nice_day\"] = ss.apply(my_f, axis=1)\n",
    "ss.head(1)\n"
   ]
  },
  {
   "cell_type": "markdown",
   "metadata": {},
   "source": [
    "Then once we're confident that it works, we can switch back from the limited part of the dataframe to the full dataframe:"
   ]
  },
  {
   "cell_type": "code",
   "execution_count": null,
   "metadata": {},
   "outputs": [],
   "source": [
    "def my_f(x):\n",
    "    return datetime.strftime(x.OFFENCE_MONTH, \"%A\")\n",
    "\n",
    "\n",
    "penalty_data[\"nice_day\"] = penalty_data.apply(my_f, axis=1)\n",
    "penalty_data.nice_day.value_counts().plot(kind=\"bar\")\n"
   ]
  },
  {
   "cell_type": "markdown",
   "metadata": {
    "slideshow": {
     "slide_type": "slide"
    }
   },
   "source": [
    "And we can see that most of these fines are booked on a Sunday, which is a real _hmm_ moment 🤔\n",
    "\n",
    "This would be the kind of question that it'd be good to explore in your project.\n",
    "\n",
    "---\n",
    "\n",
    "How do we tell the computer to treat _facade_ and _fašade_ the same? What about _University of new south wales_, _University of New South Wales_, _University of NSW_, _UNSW_, _New-south_?\n",
    "\n",
    "## The answer is _folding_\n",
    "\n",
    "_(This is a \"pattern\")_"
   ]
  },
  {
   "cell_type": "code",
   "execution_count": null,
   "metadata": {
    "slideshow": {
     "slide_type": "slide"
    }
   },
   "outputs": [],
   "source": [
    "def fold(given):\n",
    "    \"\"\"Return canonical versions of inputs.\"\"\"\n",
    "\n",
    "    # Use canonical variables so that you can define once, use many times.\n",
    "    UNSW_canonical = \"uni of stairs\"\n",
    "    ben_name_cannonical = \"Ben Doherty\"\n",
    "\n",
    "    # dictionary of input:output pairs\n",
    "    folds = {\n",
    "        \"University of new south wales\": UNSW_canonical,\n",
    "        \"University of New South Wales\": UNSW_canonical,\n",
    "        \"University of NSW\": UNSW_canonical,\n",
    "        \"UNSW\": UNSW_canonical,\n",
    "        \"New-south\": UNSW_canonical,\n",
    "        \"BDoh\": ben_name_cannonical,\n",
    "        \"Benny\": ben_name_cannonical,\n",
    "        \"Mr Dockerty\": ben_name_cannonical,\n",
    "        \"Oi, Dickhead!\": ben_name_cannonical,\n",
    "    }\n",
    "\n",
    "    #     return folds[given] # needs a defensive part, but ommited for clarity.\n",
    "    default_value = given\n",
    "    return folds.get(given, default_value)\n",
    "\n",
    "\n",
    "print(fold(\"New-south\"))\n",
    "print(fold(\"BDoh\"))\n"
   ]
  },
  {
   "cell_type": "markdown",
   "metadata": {
    "slideshow": {
     "slide_type": "slide"
    }
   },
   "source": [
    "So you could use this function in an `apply` to make a new column on cleaned up values.\n",
    "\n",
    "# _fin_"
   ]
  }
 ],
 "metadata": {
  "kernelspec": {
   "display_name": "Python 3.10.5 64-bit (windows store)",
   "language": "python",
   "name": "python3"
  },
  "language_info": {
   "codemirror_mode": {
    "name": "ipython",
    "version": 3
   },
   "file_extension": ".py",
   "mimetype": "text/x-python",
   "name": "python",
   "nbconvert_exporter": "python",
   "pygments_lexer": "ipython3",
   "version": "3.11.4"
  },
  "vscode": {
   "interpreter": {
    "hash": "c8476df7f795fd1f4977a4526e3f7a881ff6c8ddf4dfdde2439ce5eb695d0765"
   }
  }
 },
 "nbformat": 4,
 "nbformat_minor": 1
}
